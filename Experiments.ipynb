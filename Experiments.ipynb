{
 "cells": [
  {
   "cell_type": "code",
   "execution_count": 2,
   "id": "5d484404",
   "metadata": {},
   "outputs": [],
   "source": [
    "import pandas as pd\n",
    "import json"
   ]
  },
  {
   "cell_type": "code",
   "execution_count": 12,
   "id": "23abb2a5",
   "metadata": {},
   "outputs": [
    {
     "data": {
      "application/vnd.microsoft.datawrangler.viewer.v0+json": {
       "columns": [
        {
         "name": "index",
         "rawType": "int64",
         "type": "integer"
        },
        {
         "name": "embedding_model",
         "rawType": "object",
         "type": "string"
        },
        {
         "name": "classifier",
         "rawType": "object",
         "type": "string"
        },
        {
         "name": "seed",
         "rawType": "int64",
         "type": "integer"
        },
        {
         "name": "run",
         "rawType": "int64",
         "type": "integer"
        },
        {
         "name": "precision",
         "rawType": "float64",
         "type": "float"
        },
        {
         "name": "recall",
         "rawType": "float64",
         "type": "float"
        },
        {
         "name": "f1",
         "rawType": "float64",
         "type": "float"
        },
        {
         "name": "nb_0",
         "rawType": "int64",
         "type": "integer"
        },
        {
         "name": "nb_1",
         "rawType": "int64",
         "type": "integer"
        },
        {
         "name": "elapsed_train",
         "rawType": "float64",
         "type": "float"
        },
        {
         "name": "elapsed_test",
         "rawType": "float64",
         "type": "float"
        }
       ],
       "ref": "fa2790c9-21d9-4e5d-b9e3-4f4f2a3dac47",
       "rows": [
        [
         "0",
         "bert-base-uncased",
         "RandomForest",
         "2573",
         "1",
         "1.0",
         "0.9750223015165032",
         "0.987353206865402",
         "24641",
         "1121",
         "20.073",
         "0.138"
        ],
        [
         "1",
         "bert-base-uncased",
         "CatBoost",
         "2573",
         "1",
         "0.9911190053285968",
         "0.9955396966993756",
         "0.9933244325767692",
         "24641",
         "1121",
         "9.499",
         "0.019"
        ]
       ],
       "shape": {
        "columns": 11,
        "rows": 2
       }
      },
      "text/html": [
       "<div>\n",
       "<style scoped>\n",
       "    .dataframe tbody tr th:only-of-type {\n",
       "        vertical-align: middle;\n",
       "    }\n",
       "\n",
       "    .dataframe tbody tr th {\n",
       "        vertical-align: top;\n",
       "    }\n",
       "\n",
       "    .dataframe thead th {\n",
       "        text-align: right;\n",
       "    }\n",
       "</style>\n",
       "<table border=\"1\" class=\"dataframe\">\n",
       "  <thead>\n",
       "    <tr style=\"text-align: right;\">\n",
       "      <th></th>\n",
       "      <th>embedding_model</th>\n",
       "      <th>classifier</th>\n",
       "      <th>seed</th>\n",
       "      <th>run</th>\n",
       "      <th>precision</th>\n",
       "      <th>recall</th>\n",
       "      <th>f1</th>\n",
       "      <th>nb_0</th>\n",
       "      <th>nb_1</th>\n",
       "      <th>elapsed_train</th>\n",
       "      <th>elapsed_test</th>\n",
       "    </tr>\n",
       "  </thead>\n",
       "  <tbody>\n",
       "    <tr>\n",
       "      <th>0</th>\n",
       "      <td>bert-base-uncased</td>\n",
       "      <td>RandomForest</td>\n",
       "      <td>2573</td>\n",
       "      <td>1</td>\n",
       "      <td>1.000000</td>\n",
       "      <td>0.975022</td>\n",
       "      <td>0.987353</td>\n",
       "      <td>24641</td>\n",
       "      <td>1121</td>\n",
       "      <td>20.073</td>\n",
       "      <td>0.138</td>\n",
       "    </tr>\n",
       "    <tr>\n",
       "      <th>1</th>\n",
       "      <td>bert-base-uncased</td>\n",
       "      <td>CatBoost</td>\n",
       "      <td>2573</td>\n",
       "      <td>1</td>\n",
       "      <td>0.991119</td>\n",
       "      <td>0.995540</td>\n",
       "      <td>0.993324</td>\n",
       "      <td>24641</td>\n",
       "      <td>1121</td>\n",
       "      <td>9.499</td>\n",
       "      <td>0.019</td>\n",
       "    </tr>\n",
       "  </tbody>\n",
       "</table>\n",
       "</div>"
      ],
      "text/plain": [
       "     embedding_model    classifier  seed  run  precision    recall        f1  \\\n",
       "0  bert-base-uncased  RandomForest  2573    1   1.000000  0.975022  0.987353   \n",
       "1  bert-base-uncased      CatBoost  2573    1   0.991119  0.995540  0.993324   \n",
       "\n",
       "    nb_0  nb_1  elapsed_train  elapsed_test  \n",
       "0  24641  1121         20.073         0.138  \n",
       "1  24641  1121          9.499         0.019  "
      ]
     },
     "execution_count": 12,
     "metadata": {},
     "output_type": "execute_result"
    }
   ],
   "source": [
    "df1=pd.read_csv(\"./ss/df_S_SI_effectveness.csv\")\n",
    "df1.head(2)"
   ]
  },
  {
   "cell_type": "code",
   "execution_count": 14,
   "id": "dc35eba0",
   "metadata": {},
   "outputs": [
    {
     "data": {
      "application/vnd.microsoft.datawrangler.viewer.v0+json": {
       "columns": [
        {
         "name": "index",
         "rawType": "int64",
         "type": "integer"
        },
        {
         "name": "embedding_model",
         "rawType": "object",
         "type": "string"
        },
        {
         "name": "classifier",
         "rawType": "object",
         "type": "string"
        },
        {
         "name": "seed",
         "rawType": "int64",
         "type": "integer"
        },
        {
         "name": "run",
         "rawType": "int64",
         "type": "integer"
        },
        {
         "name": "precision",
         "rawType": "float64",
         "type": "float"
        },
        {
         "name": "recall",
         "rawType": "float64",
         "type": "float"
        },
        {
         "name": "f1",
         "rawType": "float64",
         "type": "float"
        },
        {
         "name": "nb_0",
         "rawType": "float64",
         "type": "float"
        },
        {
         "name": "nb_1",
         "rawType": "float64",
         "type": "float"
        },
        {
         "name": "elapsed_train",
         "rawType": "float64",
         "type": "float"
        },
        {
         "name": "elapsed_test",
         "rawType": "float64",
         "type": "float"
        }
       ],
       "ref": "47304b42-5b86-4265-a3f8-6a86e3fb4396",
       "rows": [
        [
         "0",
         "bert-base-uncased",
         "RandomForest",
         "9013",
         "1",
         "0.9850746268656716",
         "0.8088235294117647",
         "0.8882907133243607",
         "24428.0",
         "1224.0",
         "23.986",
         "0.13"
        ],
        [
         "1",
         "bert-base-uncased",
         "CatBoost",
         "9013",
         "1",
         "0.8805970149253731",
         "0.9640522875816994",
         "0.9204368174726988",
         "24428.0",
         "1224.0",
         "9.741",
         "0.021"
        ]
       ],
       "shape": {
        "columns": 11,
        "rows": 2
       }
      },
      "text/html": [
       "<div>\n",
       "<style scoped>\n",
       "    .dataframe tbody tr th:only-of-type {\n",
       "        vertical-align: middle;\n",
       "    }\n",
       "\n",
       "    .dataframe tbody tr th {\n",
       "        vertical-align: top;\n",
       "    }\n",
       "\n",
       "    .dataframe thead th {\n",
       "        text-align: right;\n",
       "    }\n",
       "</style>\n",
       "<table border=\"1\" class=\"dataframe\">\n",
       "  <thead>\n",
       "    <tr style=\"text-align: right;\">\n",
       "      <th></th>\n",
       "      <th>embedding_model</th>\n",
       "      <th>classifier</th>\n",
       "      <th>seed</th>\n",
       "      <th>run</th>\n",
       "      <th>precision</th>\n",
       "      <th>recall</th>\n",
       "      <th>f1</th>\n",
       "      <th>nb_0</th>\n",
       "      <th>nb_1</th>\n",
       "      <th>elapsed_train</th>\n",
       "      <th>elapsed_test</th>\n",
       "    </tr>\n",
       "  </thead>\n",
       "  <tbody>\n",
       "    <tr>\n",
       "      <th>0</th>\n",
       "      <td>bert-base-uncased</td>\n",
       "      <td>RandomForest</td>\n",
       "      <td>9013</td>\n",
       "      <td>1</td>\n",
       "      <td>0.985075</td>\n",
       "      <td>0.808824</td>\n",
       "      <td>0.888291</td>\n",
       "      <td>24428.0</td>\n",
       "      <td>1224.0</td>\n",
       "      <td>23.986</td>\n",
       "      <td>0.130</td>\n",
       "    </tr>\n",
       "    <tr>\n",
       "      <th>1</th>\n",
       "      <td>bert-base-uncased</td>\n",
       "      <td>CatBoost</td>\n",
       "      <td>9013</td>\n",
       "      <td>1</td>\n",
       "      <td>0.880597</td>\n",
       "      <td>0.964052</td>\n",
       "      <td>0.920437</td>\n",
       "      <td>24428.0</td>\n",
       "      <td>1224.0</td>\n",
       "      <td>9.741</td>\n",
       "      <td>0.021</td>\n",
       "    </tr>\n",
       "  </tbody>\n",
       "</table>\n",
       "</div>"
      ],
      "text/plain": [
       "     embedding_model    classifier  seed  run  precision    recall        f1  \\\n",
       "0  bert-base-uncased  RandomForest  9013    1   0.985075  0.808824  0.888291   \n",
       "1  bert-base-uncased      CatBoost  9013    1   0.880597  0.964052  0.920437   \n",
       "\n",
       "      nb_0    nb_1  elapsed_train  elapsed_test  \n",
       "0  24428.0  1224.0         23.986         0.130  \n",
       "1  24428.0  1224.0          9.741         0.021  "
      ]
     },
     "execution_count": 14,
     "metadata": {},
     "output_type": "execute_result"
    }
   ],
   "source": [
    "df2=pd.read_csv(\"./si/df_I_SI_effectveness.csv\")\n",
    "df2.head(2)"
   ]
  },
  {
   "cell_type": "markdown",
   "id": "58d31a3f",
   "metadata": {},
   "source": [
    "## 1. Effectiveness"
   ]
  },
  {
   "cell_type": "code",
   "execution_count": null,
   "id": "33f1fabc",
   "metadata": {},
   "outputs": [],
   "source": [
    "df1[[\"classifier\",\"f1\"]].groupby(\"classifier\").agg([\"mean\",\"std\"]).round(2) "
   ]
  },
  {
   "cell_type": "code",
   "execution_count": 15,
   "id": "203585db",
   "metadata": {},
   "outputs": [
    {
     "data": {
      "application/vnd.microsoft.datawrangler.viewer.v0+json": {
       "columns": [
        {
         "name": "classifier",
         "rawType": "object",
         "type": "string"
        },
        {
         "name": "('f1', 'mean')",
         "rawType": "float64",
         "type": "float"
        },
        {
         "name": "('f1', 'std')",
         "rawType": "float64",
         "type": "float"
        }
       ],
       "ref": "888a5115-b91a-45b6-8b8e-b104b8432a36",
       "rows": [
        [
         "CatBoost",
         "0.92",
         "0.0"
        ],
        [
         "DecisionTree",
         "0.85",
         "0.01"
        ],
        [
         "KNN",
         "0.87",
         "0.01"
        ],
        [
         "LogisticRegression",
         "0.39",
         "0.01"
        ],
        [
         "MLP",
         "0.87",
         "0.01"
        ],
        [
         "RandomForest",
         "0.89",
         "0.01"
        ],
        [
         "SVM",
         "0.71",
         "0.01"
        ],
        [
         "XGBoost",
         "0.93",
         "0.01"
        ]
       ],
       "shape": {
        "columns": 2,
        "rows": 8
       }
      },
      "text/html": [
       "<div>\n",
       "<style scoped>\n",
       "    .dataframe tbody tr th:only-of-type {\n",
       "        vertical-align: middle;\n",
       "    }\n",
       "\n",
       "    .dataframe tbody tr th {\n",
       "        vertical-align: top;\n",
       "    }\n",
       "\n",
       "    .dataframe thead tr th {\n",
       "        text-align: left;\n",
       "    }\n",
       "\n",
       "    .dataframe thead tr:last-of-type th {\n",
       "        text-align: right;\n",
       "    }\n",
       "</style>\n",
       "<table border=\"1\" class=\"dataframe\">\n",
       "  <thead>\n",
       "    <tr>\n",
       "      <th></th>\n",
       "      <th colspan=\"2\" halign=\"left\">f1</th>\n",
       "    </tr>\n",
       "    <tr>\n",
       "      <th></th>\n",
       "      <th>mean</th>\n",
       "      <th>std</th>\n",
       "    </tr>\n",
       "    <tr>\n",
       "      <th>classifier</th>\n",
       "      <th></th>\n",
       "      <th></th>\n",
       "    </tr>\n",
       "  </thead>\n",
       "  <tbody>\n",
       "    <tr>\n",
       "      <th>CatBoost</th>\n",
       "      <td>0.92</td>\n",
       "      <td>0.00</td>\n",
       "    </tr>\n",
       "    <tr>\n",
       "      <th>DecisionTree</th>\n",
       "      <td>0.85</td>\n",
       "      <td>0.01</td>\n",
       "    </tr>\n",
       "    <tr>\n",
       "      <th>KNN</th>\n",
       "      <td>0.87</td>\n",
       "      <td>0.01</td>\n",
       "    </tr>\n",
       "    <tr>\n",
       "      <th>LogisticRegression</th>\n",
       "      <td>0.39</td>\n",
       "      <td>0.01</td>\n",
       "    </tr>\n",
       "    <tr>\n",
       "      <th>MLP</th>\n",
       "      <td>0.87</td>\n",
       "      <td>0.01</td>\n",
       "    </tr>\n",
       "    <tr>\n",
       "      <th>RandomForest</th>\n",
       "      <td>0.89</td>\n",
       "      <td>0.01</td>\n",
       "    </tr>\n",
       "    <tr>\n",
       "      <th>SVM</th>\n",
       "      <td>0.71</td>\n",
       "      <td>0.01</td>\n",
       "    </tr>\n",
       "    <tr>\n",
       "      <th>XGBoost</th>\n",
       "      <td>0.93</td>\n",
       "      <td>0.01</td>\n",
       "    </tr>\n",
       "  </tbody>\n",
       "</table>\n",
       "</div>"
      ],
      "text/plain": [
       "                      f1      \n",
       "                    mean   std\n",
       "classifier                    \n",
       "CatBoost            0.92  0.00\n",
       "DecisionTree        0.85  0.01\n",
       "KNN                 0.87  0.01\n",
       "LogisticRegression  0.39  0.01\n",
       "MLP                 0.87  0.01\n",
       "RandomForest        0.89  0.01\n",
       "SVM                 0.71  0.01\n",
       "XGBoost             0.93  0.01"
      ]
     },
     "execution_count": 15,
     "metadata": {},
     "output_type": "execute_result"
    }
   ],
   "source": [
    "df2[[\"classifier\",\"f1\"]].groupby(\"classifier\").agg([\"mean\",\"std\"]).round(2) "
   ]
  },
  {
   "cell_type": "code",
   "execution_count": 17,
   "id": "97e1726b",
   "metadata": {},
   "outputs": [
    {
     "data": {
      "application/vnd.microsoft.datawrangler.viewer.v0+json": {
       "columns": [
        {
         "name": "index",
         "rawType": "int64",
         "type": "integer"
        },
        {
         "name": "('classifier', '')",
         "rawType": "object",
         "type": "string"
        },
        {
         "name": "('mean_f1', 'Scenario: Instance → schema with instance')",
         "rawType": "float64",
         "type": "float"
        },
        {
         "name": "('std_f1', 'Scenario: Instance → schema with instance')",
         "rawType": "float64",
         "type": "float"
        },
        {
         "name": "('mean_precision', 'Scenario: Instance → schema with instance')",
         "rawType": "float64",
         "type": "float"
        },
        {
         "name": "('std_precision', 'Scenario: Instance → schema with instance')",
         "rawType": "float64",
         "type": "float"
        },
        {
         "name": "('mean_recall', 'Scenario: Instance → schema with instance')",
         "rawType": "float64",
         "type": "float"
        },
        {
         "name": "('std_recall', 'Scenario: Instance → schema with instance')",
         "rawType": "float64",
         "type": "float"
        }
       ],
       "ref": "e06d9142-c8e4-4404-bf38-51ceeed5bec4",
       "rows": [
        [
         "0",
         "CatBoost",
         "0.92",
         "0.0",
         "0.89",
         "0.01",
         "0.96",
         "0.01"
        ],
        [
         "1",
         "DecisionTree",
         "0.85",
         "0.01",
         "0.87",
         "0.01",
         "0.84",
         "0.01"
        ],
        [
         "2",
         "KNN",
         "0.87",
         "0.01",
         "0.93",
         "0.01",
         "0.81",
         "0.02"
        ],
        [
         "3",
         "LogisticRegression",
         "0.39",
         "0.01",
         "0.25",
         "0.0",
         "0.89",
         "0.01"
        ],
        [
         "4",
         "MLP",
         "0.87",
         "0.01",
         "0.87",
         "0.02",
         "0.87",
         "0.02"
        ],
        [
         "5",
         "RandomForest",
         "0.89",
         "0.01",
         "0.99",
         "0.0",
         "0.81",
         "0.01"
        ],
        [
         "6",
         "SVM",
         "0.71",
         "0.01",
         "0.56",
         "0.01",
         "0.98",
         "0.01"
        ],
        [
         "7",
         "XGBoost",
         "0.93",
         "0.01",
         "0.92",
         "0.01",
         "0.93",
         "0.01"
        ]
       ],
       "shape": {
        "columns": 7,
        "rows": 8
       }
      },
      "text/html": [
       "<div>\n",
       "<style scoped>\n",
       "    .dataframe tbody tr th:only-of-type {\n",
       "        vertical-align: middle;\n",
       "    }\n",
       "\n",
       "    .dataframe tbody tr th {\n",
       "        vertical-align: top;\n",
       "    }\n",
       "\n",
       "    .dataframe thead tr th {\n",
       "        text-align: left;\n",
       "    }\n",
       "</style>\n",
       "<table border=\"1\" class=\"dataframe\">\n",
       "  <thead>\n",
       "    <tr>\n",
       "      <th></th>\n",
       "      <th>classifier</th>\n",
       "      <th>mean_f1</th>\n",
       "      <th>std_f1</th>\n",
       "      <th>mean_precision</th>\n",
       "      <th>std_precision</th>\n",
       "      <th>mean_recall</th>\n",
       "      <th>std_recall</th>\n",
       "    </tr>\n",
       "    <tr>\n",
       "      <th>embedding_model</th>\n",
       "      <th></th>\n",
       "      <th>Scenario: Instance → schema with instance</th>\n",
       "      <th>Scenario: Instance → schema with instance</th>\n",
       "      <th>Scenario: Instance → schema with instance</th>\n",
       "      <th>Scenario: Instance → schema with instance</th>\n",
       "      <th>Scenario: Instance → schema with instance</th>\n",
       "      <th>Scenario: Instance → schema with instance</th>\n",
       "    </tr>\n",
       "  </thead>\n",
       "  <tbody>\n",
       "    <tr>\n",
       "      <th>0</th>\n",
       "      <td>CatBoost</td>\n",
       "      <td>0.92</td>\n",
       "      <td>0.00</td>\n",
       "      <td>0.89</td>\n",
       "      <td>0.01</td>\n",
       "      <td>0.96</td>\n",
       "      <td>0.01</td>\n",
       "    </tr>\n",
       "    <tr>\n",
       "      <th>1</th>\n",
       "      <td>DecisionTree</td>\n",
       "      <td>0.85</td>\n",
       "      <td>0.01</td>\n",
       "      <td>0.87</td>\n",
       "      <td>0.01</td>\n",
       "      <td>0.84</td>\n",
       "      <td>0.01</td>\n",
       "    </tr>\n",
       "    <tr>\n",
       "      <th>2</th>\n",
       "      <td>KNN</td>\n",
       "      <td>0.87</td>\n",
       "      <td>0.01</td>\n",
       "      <td>0.93</td>\n",
       "      <td>0.01</td>\n",
       "      <td>0.81</td>\n",
       "      <td>0.02</td>\n",
       "    </tr>\n",
       "    <tr>\n",
       "      <th>3</th>\n",
       "      <td>LogisticRegression</td>\n",
       "      <td>0.39</td>\n",
       "      <td>0.01</td>\n",
       "      <td>0.25</td>\n",
       "      <td>0.00</td>\n",
       "      <td>0.89</td>\n",
       "      <td>0.01</td>\n",
       "    </tr>\n",
       "    <tr>\n",
       "      <th>4</th>\n",
       "      <td>MLP</td>\n",
       "      <td>0.87</td>\n",
       "      <td>0.01</td>\n",
       "      <td>0.87</td>\n",
       "      <td>0.02</td>\n",
       "      <td>0.87</td>\n",
       "      <td>0.02</td>\n",
       "    </tr>\n",
       "    <tr>\n",
       "      <th>5</th>\n",
       "      <td>RandomForest</td>\n",
       "      <td>0.89</td>\n",
       "      <td>0.01</td>\n",
       "      <td>0.99</td>\n",
       "      <td>0.00</td>\n",
       "      <td>0.81</td>\n",
       "      <td>0.01</td>\n",
       "    </tr>\n",
       "    <tr>\n",
       "      <th>6</th>\n",
       "      <td>SVM</td>\n",
       "      <td>0.71</td>\n",
       "      <td>0.01</td>\n",
       "      <td>0.56</td>\n",
       "      <td>0.01</td>\n",
       "      <td>0.98</td>\n",
       "      <td>0.01</td>\n",
       "    </tr>\n",
       "    <tr>\n",
       "      <th>7</th>\n",
       "      <td>XGBoost</td>\n",
       "      <td>0.93</td>\n",
       "      <td>0.01</td>\n",
       "      <td>0.92</td>\n",
       "      <td>0.01</td>\n",
       "      <td>0.93</td>\n",
       "      <td>0.01</td>\n",
       "    </tr>\n",
       "  </tbody>\n",
       "</table>\n",
       "</div>"
      ],
      "text/plain": [
       "                         classifier                                   mean_f1  \\\n",
       "embedding_model                     Scenario: Instance → schema with instance   \n",
       "0                          CatBoost                                      0.92   \n",
       "1                      DecisionTree                                      0.85   \n",
       "2                               KNN                                      0.87   \n",
       "3                LogisticRegression                                      0.39   \n",
       "4                               MLP                                      0.87   \n",
       "5                      RandomForest                                      0.89   \n",
       "6                               SVM                                      0.71   \n",
       "7                           XGBoost                                      0.93   \n",
       "\n",
       "                                                   std_f1  \\\n",
       "embedding_model Scenario: Instance → schema with instance   \n",
       "0                                                    0.00   \n",
       "1                                                    0.01   \n",
       "2                                                    0.01   \n",
       "3                                                    0.01   \n",
       "4                                                    0.01   \n",
       "5                                                    0.01   \n",
       "6                                                    0.01   \n",
       "7                                                    0.01   \n",
       "\n",
       "                                           mean_precision  \\\n",
       "embedding_model Scenario: Instance → schema with instance   \n",
       "0                                                    0.89   \n",
       "1                                                    0.87   \n",
       "2                                                    0.93   \n",
       "3                                                    0.25   \n",
       "4                                                    0.87   \n",
       "5                                                    0.99   \n",
       "6                                                    0.56   \n",
       "7                                                    0.92   \n",
       "\n",
       "                                            std_precision  \\\n",
       "embedding_model Scenario: Instance → schema with instance   \n",
       "0                                                    0.01   \n",
       "1                                                    0.01   \n",
       "2                                                    0.01   \n",
       "3                                                    0.00   \n",
       "4                                                    0.02   \n",
       "5                                                    0.00   \n",
       "6                                                    0.01   \n",
       "7                                                    0.01   \n",
       "\n",
       "                                              mean_recall  \\\n",
       "embedding_model Scenario: Instance → schema with instance   \n",
       "0                                                    0.96   \n",
       "1                                                    0.84   \n",
       "2                                                    0.81   \n",
       "3                                                    0.89   \n",
       "4                                                    0.87   \n",
       "5                                                    0.81   \n",
       "6                                                    0.98   \n",
       "7                                                    0.93   \n",
       "\n",
       "                                               std_recall  \n",
       "embedding_model Scenario: Instance → schema with instance  \n",
       "0                                                    0.01  \n",
       "1                                                    0.01  \n",
       "2                                                    0.02  \n",
       "3                                                    0.01  \n",
       "4                                                    0.02  \n",
       "5                                                    0.01  \n",
       "6                                                    0.01  \n",
       "7                                                    0.01  "
      ]
     },
     "execution_count": 17,
     "metadata": {},
     "output_type": "execute_result"
    }
   ],
   "source": [
    "classifiers_to_keep = [\n",
    "    'XGBoost', 'CatBoost', 'RandomForest', 'MLP', 'DecisionTree',\n",
    "    'KNN', 'SVM', 'LogisticRegression'\n",
    "]\n",
    "\n",
    "df_filtered = df2[df2['classifier'].isin(classifiers_to_keep)]\n",
    "\n",
    "grouped = df_filtered.groupby(['classifier', 'embedding_model']).agg(\n",
    "    mean_f1=('f1', 'mean'),\n",
    "    std_f1=('f1', 'std'),\n",
    "    mean_precision=('precision', 'mean'),\n",
    "    std_precision=('precision', 'std'),\n",
    "    mean_recall=('recall', 'mean'),\n",
    "    std_recall=('recall', 'std')\n",
    ").reset_index()\n",
    "\n",
    "grouped['embedding_model'] = grouped['embedding_model'].replace({\n",
    "    'bert-base-uncased': 'Scenario: Instance → schema with instance',\n",
    "    'roberta-base': 'Scenario: Schema → schema with instance'  # optionnel selon ton cas\n",
    "})\n",
    "\n",
    "final_df = grouped[['classifier', 'embedding_model',\n",
    "                    'mean_f1', 'std_f1',\n",
    "                    'mean_precision', 'std_precision',\n",
    "                    'mean_recall', 'std_recall']].round(2)\n",
    "\n",
    "pivot = grouped.pivot(index='classifier', columns='embedding_model', values=[\n",
    "    'mean_f1', 'std_f1',\n",
    "    'mean_precision', 'std_precision',\n",
    "    'mean_recall', 'std_recall'\n",
    "]).round(2).reset_index()\n",
    "\n",
    "pivot\n"
   ]
  },
  {
   "cell_type": "markdown",
   "id": "bc0e3152",
   "metadata": {},
   "source": [
    "## 2. Effeciency"
   ]
  },
  {
   "cell_type": "code",
   "execution_count": 19,
   "id": "f8be6cc4",
   "metadata": {},
   "outputs": [
    {
     "data": {
      "application/vnd.microsoft.datawrangler.viewer.v0+json": {
       "columns": [
        {
         "name": "index",
         "rawType": "int64",
         "type": "integer"
        },
        {
         "name": "classifier",
         "rawType": "object",
         "type": "string"
        },
        {
         "name": "Scenario 1_train",
         "rawType": "object",
         "type": "string"
        },
        {
         "name": "Scenario 1_test",
         "rawType": "object",
         "type": "string"
        },
        {
         "name": "Scenario 2_train",
         "rawType": "object",
         "type": "string"
        },
        {
         "name": "Scenario 2_test",
         "rawType": "object",
         "type": "string"
        }
       ],
       "ref": "20af2e16-9345-4565-8f55-bb096a5e5aac",
       "rows": [
        [
         "0",
         "CatBoost",
         "9.19 ± 0.27",
         "0.02 ± 0.0",
         "9.92 ± 0.27",
         "0.02 ± 0.0"
        ],
        [
         "1",
         "DecisionTree",
         "2.92 ± 0.12",
         "0.0 ± 0.0",
         "3.32 ± 0.3",
         "0.0 ± 0.0"
        ],
        [
         "2",
         "KNN",
         "0.01 ± 0.0",
         "1.33 ± 0.08",
         "0.01 ± 0.0",
         "1.37 ± 0.13"
        ],
        [
         "3",
         "LogisticRegression",
         "8.93 ± 0.43",
         "0.0 ± 0.0",
         "5.1 ± 0.26",
         "0.0 ± 0.0"
        ],
        [
         "4",
         "MLP",
         "23.54 ± 3.75",
         "0.01 ± 0.0",
         "42.27 ± 4.81",
         "0.02 ± 0.01"
        ],
        [
         "5",
         "RandomForest",
         "19.86 ± 0.43",
         "0.13 ± 0.01",
         "23.85 ± 0.28",
         "0.13 ± 0.0"
        ],
        [
         "6",
         "SVM",
         "1059.46 ± 39.68",
         "27.66 ± 1.27",
         "561.87 ± 25.35",
         "16.55 ± 0.41"
        ],
        [
         "7",
         "XGBoost",
         "0.55 ± 0.06",
         "0.01 ± 0.0",
         "0.62 ± 0.03",
         "0.01 ± 0.0"
        ]
       ],
       "shape": {
        "columns": 5,
        "rows": 8
       }
      },
      "text/html": [
       "<div>\n",
       "<style scoped>\n",
       "    .dataframe tbody tr th:only-of-type {\n",
       "        vertical-align: middle;\n",
       "    }\n",
       "\n",
       "    .dataframe tbody tr th {\n",
       "        vertical-align: top;\n",
       "    }\n",
       "\n",
       "    .dataframe thead th {\n",
       "        text-align: right;\n",
       "    }\n",
       "</style>\n",
       "<table border=\"1\" class=\"dataframe\">\n",
       "  <thead>\n",
       "    <tr style=\"text-align: right;\">\n",
       "      <th></th>\n",
       "      <th>classifier</th>\n",
       "      <th>Scenario 1_train</th>\n",
       "      <th>Scenario 1_test</th>\n",
       "      <th>Scenario 2_train</th>\n",
       "      <th>Scenario 2_test</th>\n",
       "    </tr>\n",
       "  </thead>\n",
       "  <tbody>\n",
       "    <tr>\n",
       "      <th>0</th>\n",
       "      <td>CatBoost</td>\n",
       "      <td>9.19 ± 0.27</td>\n",
       "      <td>0.02 ± 0.0</td>\n",
       "      <td>9.92 ± 0.27</td>\n",
       "      <td>0.02 ± 0.0</td>\n",
       "    </tr>\n",
       "    <tr>\n",
       "      <th>1</th>\n",
       "      <td>DecisionTree</td>\n",
       "      <td>2.92 ± 0.12</td>\n",
       "      <td>0.0 ± 0.0</td>\n",
       "      <td>3.32 ± 0.3</td>\n",
       "      <td>0.0 ± 0.0</td>\n",
       "    </tr>\n",
       "    <tr>\n",
       "      <th>2</th>\n",
       "      <td>KNN</td>\n",
       "      <td>0.01 ± 0.0</td>\n",
       "      <td>1.33 ± 0.08</td>\n",
       "      <td>0.01 ± 0.0</td>\n",
       "      <td>1.37 ± 0.13</td>\n",
       "    </tr>\n",
       "    <tr>\n",
       "      <th>3</th>\n",
       "      <td>LogisticRegression</td>\n",
       "      <td>8.93 ± 0.43</td>\n",
       "      <td>0.0 ± 0.0</td>\n",
       "      <td>5.1 ± 0.26</td>\n",
       "      <td>0.0 ± 0.0</td>\n",
       "    </tr>\n",
       "    <tr>\n",
       "      <th>4</th>\n",
       "      <td>MLP</td>\n",
       "      <td>23.54 ± 3.75</td>\n",
       "      <td>0.01 ± 0.0</td>\n",
       "      <td>42.27 ± 4.81</td>\n",
       "      <td>0.02 ± 0.01</td>\n",
       "    </tr>\n",
       "    <tr>\n",
       "      <th>5</th>\n",
       "      <td>RandomForest</td>\n",
       "      <td>19.86 ± 0.43</td>\n",
       "      <td>0.13 ± 0.01</td>\n",
       "      <td>23.85 ± 0.28</td>\n",
       "      <td>0.13 ± 0.0</td>\n",
       "    </tr>\n",
       "    <tr>\n",
       "      <th>6</th>\n",
       "      <td>SVM</td>\n",
       "      <td>1059.46 ± 39.68</td>\n",
       "      <td>27.66 ± 1.27</td>\n",
       "      <td>561.87 ± 25.35</td>\n",
       "      <td>16.55 ± 0.41</td>\n",
       "    </tr>\n",
       "    <tr>\n",
       "      <th>7</th>\n",
       "      <td>XGBoost</td>\n",
       "      <td>0.55 ± 0.06</td>\n",
       "      <td>0.01 ± 0.0</td>\n",
       "      <td>0.62 ± 0.03</td>\n",
       "      <td>0.01 ± 0.0</td>\n",
       "    </tr>\n",
       "  </tbody>\n",
       "</table>\n",
       "</div>"
      ],
      "text/plain": [
       "           classifier Scenario 1_train Scenario 1_test Scenario 2_train  \\\n",
       "0            CatBoost      9.19 ± 0.27      0.02 ± 0.0      9.92 ± 0.27   \n",
       "1        DecisionTree      2.92 ± 0.12       0.0 ± 0.0       3.32 ± 0.3   \n",
       "2                 KNN       0.01 ± 0.0     1.33 ± 0.08       0.01 ± 0.0   \n",
       "3  LogisticRegression      8.93 ± 0.43       0.0 ± 0.0       5.1 ± 0.26   \n",
       "4                 MLP     23.54 ± 3.75      0.01 ± 0.0     42.27 ± 4.81   \n",
       "5        RandomForest     19.86 ± 0.43     0.13 ± 0.01     23.85 ± 0.28   \n",
       "6                 SVM  1059.46 ± 39.68    27.66 ± 1.27   561.87 ± 25.35   \n",
       "7             XGBoost      0.55 ± 0.06      0.01 ± 0.0      0.62 ± 0.03   \n",
       "\n",
       "  Scenario 2_test  \n",
       "0      0.02 ± 0.0  \n",
       "1       0.0 ± 0.0  \n",
       "2     1.37 ± 0.13  \n",
       "3       0.0 ± 0.0  \n",
       "4     0.02 ± 0.01  \n",
       "5      0.13 ± 0.0  \n",
       "6    16.55 ± 0.41  \n",
       "7      0.01 ± 0.0  "
      ]
     },
     "execution_count": 19,
     "metadata": {},
     "output_type": "execute_result"
    }
   ],
   "source": [
    "import pandas as pd\n",
    "\n",
    "classifiers_to_keep = [\n",
    "    'XGBoost', 'CatBoost', 'RandomForest', 'MLP', 'DecisionTree',\n",
    "    'KNN', 'SVM', 'LogisticRegression'\n",
    "]\n",
    "\n",
    "def aggregate_time_metrics(df, scenario_label):\n",
    "    df_filtered = df[df['classifier'].isin(classifiers_to_keep)]\n",
    "\n",
    "    grouped = df_filtered.groupby(['classifier', 'embedding_model']).agg(\n",
    "        mean_train=('elapsed_train', 'mean'),\n",
    "        std_train=('elapsed_train', 'std'),\n",
    "        mean_test=('elapsed_test', 'mean'),\n",
    "        std_test=('elapsed_test', 'std')\n",
    "    ).reset_index()\n",
    "\n",
    "    grouped['embedding_model'] = grouped['embedding_model'].replace({\n",
    "        'bert-base-uncased': scenario_label\n",
    "    })\n",
    "\n",
    "    # Format en \"mean ± std\"\n",
    "    def fmt(mean, std):\n",
    "        return grouped[mean].round(2).astype(str) + \" ± \" + grouped[std].round(2).astype(str)\n",
    "\n",
    "    grouped[f'{scenario_label}_train'] = fmt('mean_train', 'std_train')\n",
    "    grouped[f'{scenario_label}_test'] = fmt('mean_test', 'std_test')\n",
    "\n",
    "    return grouped[['classifier', f'{scenario_label}_train', f'{scenario_label}_test']]\n",
    "\n",
    "train_test_df1 = aggregate_time_metrics(df1, \"Scenario 1\")\n",
    "train_test_df2 = aggregate_time_metrics(df2, \"Scenario 2\")\n",
    "\n",
    "merged_time = pd.merge(train_test_df1, train_test_df2, on='classifier')\n",
    "merged_time"
   ]
  },
  {
   "cell_type": "markdown",
   "id": "7a26f6a0",
   "metadata": {},
   "source": [
    "## 3. Feature Importance"
   ]
  },
  {
   "cell_type": "code",
   "execution_count": 21,
   "id": "48047e3b",
   "metadata": {},
   "outputs": [
    {
     "data": {
      "application/vnd.microsoft.datawrangler.viewer.v0+json": {
       "columns": [
        {
         "name": "index",
         "rawType": "int64",
         "type": "integer"
        },
        {
         "name": "Features",
         "rawType": "object",
         "type": "string"
        },
        {
         "name": "F1",
         "rawType": "float64",
         "type": "float"
        },
        {
         "name": "Recall",
         "rawType": "float64",
         "type": "float"
        },
        {
         "name": "Precision",
         "rawType": "float64",
         "type": "float"
        },
        {
         "name": "Seed",
         "rawType": "int64",
         "type": "integer"
        },
        {
         "name": "model",
         "rawType": "object",
         "type": "string"
        },
        {
         "name": "Execution",
         "rawType": "float64",
         "type": "float"
        }
       ],
       "ref": "53c78a71-dc89-4301-843b-38e909d0431c",
       "rows": [
        [
         "0",
         "['Classiques']",
         "0.8150268336314848",
         "0.9267697314890154",
         "0.7273307790549169",
         "4571",
         "bert",
         "1.0"
        ],
        [
         "1",
         "['Spectral']",
         "0.8028828828828829",
         "0.9064279902359642",
         "0.720569210866753",
         "4571",
         "bert",
         "1.0"
        ],
        [
         "2",
         "['Topology']",
         "0.8870500620604055",
         "0.8722538649308381",
         "0.9023569023569024",
         "4571",
         "bert",
         "1.0"
        ],
        [
         "3",
         "['Classiques', 'Spectral']",
         "0.906396255850234",
         "0.9454841334418226",
         "0.8704119850187266",
         "4571",
         "bert",
         "1.0"
        ],
        [
         "4",
         "['Classiques', 'Topology']",
         "0.926076360682372",
         "0.9275834011391376",
         "0.924574209245742",
         "4571",
         "bert",
         "1.0"
        ]
       ],
       "shape": {
        "columns": 7,
        "rows": 5
       }
      },
      "text/html": [
       "<div>\n",
       "<style scoped>\n",
       "    .dataframe tbody tr th:only-of-type {\n",
       "        vertical-align: middle;\n",
       "    }\n",
       "\n",
       "    .dataframe tbody tr th {\n",
       "        vertical-align: top;\n",
       "    }\n",
       "\n",
       "    .dataframe thead th {\n",
       "        text-align: right;\n",
       "    }\n",
       "</style>\n",
       "<table border=\"1\" class=\"dataframe\">\n",
       "  <thead>\n",
       "    <tr style=\"text-align: right;\">\n",
       "      <th></th>\n",
       "      <th>Features</th>\n",
       "      <th>F1</th>\n",
       "      <th>Recall</th>\n",
       "      <th>Precision</th>\n",
       "      <th>Seed</th>\n",
       "      <th>model</th>\n",
       "      <th>Execution</th>\n",
       "    </tr>\n",
       "  </thead>\n",
       "  <tbody>\n",
       "    <tr>\n",
       "      <th>0</th>\n",
       "      <td>['Classiques']</td>\n",
       "      <td>0.815027</td>\n",
       "      <td>0.926770</td>\n",
       "      <td>0.727331</td>\n",
       "      <td>4571</td>\n",
       "      <td>bert</td>\n",
       "      <td>1.0</td>\n",
       "    </tr>\n",
       "    <tr>\n",
       "      <th>1</th>\n",
       "      <td>['Spectral']</td>\n",
       "      <td>0.802883</td>\n",
       "      <td>0.906428</td>\n",
       "      <td>0.720569</td>\n",
       "      <td>4571</td>\n",
       "      <td>bert</td>\n",
       "      <td>1.0</td>\n",
       "    </tr>\n",
       "    <tr>\n",
       "      <th>2</th>\n",
       "      <td>['Topology']</td>\n",
       "      <td>0.887050</td>\n",
       "      <td>0.872254</td>\n",
       "      <td>0.902357</td>\n",
       "      <td>4571</td>\n",
       "      <td>bert</td>\n",
       "      <td>1.0</td>\n",
       "    </tr>\n",
       "    <tr>\n",
       "      <th>3</th>\n",
       "      <td>['Classiques', 'Spectral']</td>\n",
       "      <td>0.906396</td>\n",
       "      <td>0.945484</td>\n",
       "      <td>0.870412</td>\n",
       "      <td>4571</td>\n",
       "      <td>bert</td>\n",
       "      <td>1.0</td>\n",
       "    </tr>\n",
       "    <tr>\n",
       "      <th>4</th>\n",
       "      <td>['Classiques', 'Topology']</td>\n",
       "      <td>0.926076</td>\n",
       "      <td>0.927583</td>\n",
       "      <td>0.924574</td>\n",
       "      <td>4571</td>\n",
       "      <td>bert</td>\n",
       "      <td>1.0</td>\n",
       "    </tr>\n",
       "  </tbody>\n",
       "</table>\n",
       "</div>"
      ],
      "text/plain": [
       "                     Features        F1    Recall  Precision  Seed model  \\\n",
       "0              ['Classiques']  0.815027  0.926770   0.727331  4571  bert   \n",
       "1                ['Spectral']  0.802883  0.906428   0.720569  4571  bert   \n",
       "2                ['Topology']  0.887050  0.872254   0.902357  4571  bert   \n",
       "3  ['Classiques', 'Spectral']  0.906396  0.945484   0.870412  4571  bert   \n",
       "4  ['Classiques', 'Topology']  0.926076  0.927583   0.924574  4571  bert   \n",
       "\n",
       "   Execution  \n",
       "0        1.0  \n",
       "1        1.0  \n",
       "2        1.0  \n",
       "3        1.0  \n",
       "4        1.0  "
      ]
     },
     "execution_count": 21,
     "metadata": {},
     "output_type": "execute_result"
    }
   ],
   "source": [
    "df1=pd.read_csv('./si/ablation_SI.csv')\n",
    "df1.head()"
   ]
  },
  {
   "cell_type": "code",
   "execution_count": 20,
   "id": "31c8a346",
   "metadata": {},
   "outputs": [
    {
     "data": {
      "application/vnd.microsoft.datawrangler.viewer.v0+json": {
       "columns": [
        {
         "name": "index",
         "rawType": "int64",
         "type": "integer"
        },
        {
         "name": "Features",
         "rawType": "object",
         "type": "string"
        },
        {
         "name": "F1",
         "rawType": "float64",
         "type": "float"
        },
        {
         "name": "Recall",
         "rawType": "float64",
         "type": "float"
        },
        {
         "name": "Precision",
         "rawType": "float64",
         "type": "float"
        },
        {
         "name": "Seed",
         "rawType": "int64",
         "type": "integer"
        },
        {
         "name": "model",
         "rawType": "object",
         "type": "string"
        },
        {
         "name": "Execution",
         "rawType": "float64",
         "type": "float"
        }
       ],
       "ref": "be19e8dc-5a4c-4b36-8b1a-b75da133b2f1",
       "rows": [
        [
         "0",
         "['Classiques']",
         "0.9385521885521886",
         "0.9772129710780018",
         "0.902834008097166",
         "3367",
         "bert",
         "1.0"
        ],
        [
         "1",
         "['Spectral']",
         "0.9508057675996608",
         "0.9824715162138477",
         "0.9211175020542316",
         "3367",
         "bert",
         "1.0"
        ],
        [
         "2",
         "['Topology']",
         "0.9916703200350724",
         "0.9912357581069238",
         "0.9921052631578948",
         "3367",
         "bert",
         "1.0"
        ],
        [
         "3",
         "['Classiques', 'Spectral']",
         "0.9938488576449912",
         "0.9912357581069238",
         "0.99647577092511",
         "3367",
         "bert",
         "1.0"
        ],
        [
         "4",
         "['Classiques', 'Topology']",
         "0.993423936869794",
         "0.992988606485539",
         "0.993859649122807",
         "3367",
         "bert",
         "1.0"
        ]
       ],
       "shape": {
        "columns": 7,
        "rows": 5
       }
      },
      "text/html": [
       "<div>\n",
       "<style scoped>\n",
       "    .dataframe tbody tr th:only-of-type {\n",
       "        vertical-align: middle;\n",
       "    }\n",
       "\n",
       "    .dataframe tbody tr th {\n",
       "        vertical-align: top;\n",
       "    }\n",
       "\n",
       "    .dataframe thead th {\n",
       "        text-align: right;\n",
       "    }\n",
       "</style>\n",
       "<table border=\"1\" class=\"dataframe\">\n",
       "  <thead>\n",
       "    <tr style=\"text-align: right;\">\n",
       "      <th></th>\n",
       "      <th>Features</th>\n",
       "      <th>F1</th>\n",
       "      <th>Recall</th>\n",
       "      <th>Precision</th>\n",
       "      <th>Seed</th>\n",
       "      <th>model</th>\n",
       "      <th>Execution</th>\n",
       "    </tr>\n",
       "  </thead>\n",
       "  <tbody>\n",
       "    <tr>\n",
       "      <th>0</th>\n",
       "      <td>['Classiques']</td>\n",
       "      <td>0.938552</td>\n",
       "      <td>0.977213</td>\n",
       "      <td>0.902834</td>\n",
       "      <td>3367</td>\n",
       "      <td>bert</td>\n",
       "      <td>1.0</td>\n",
       "    </tr>\n",
       "    <tr>\n",
       "      <th>1</th>\n",
       "      <td>['Spectral']</td>\n",
       "      <td>0.950806</td>\n",
       "      <td>0.982472</td>\n",
       "      <td>0.921118</td>\n",
       "      <td>3367</td>\n",
       "      <td>bert</td>\n",
       "      <td>1.0</td>\n",
       "    </tr>\n",
       "    <tr>\n",
       "      <th>2</th>\n",
       "      <td>['Topology']</td>\n",
       "      <td>0.991670</td>\n",
       "      <td>0.991236</td>\n",
       "      <td>0.992105</td>\n",
       "      <td>3367</td>\n",
       "      <td>bert</td>\n",
       "      <td>1.0</td>\n",
       "    </tr>\n",
       "    <tr>\n",
       "      <th>3</th>\n",
       "      <td>['Classiques', 'Spectral']</td>\n",
       "      <td>0.993849</td>\n",
       "      <td>0.991236</td>\n",
       "      <td>0.996476</td>\n",
       "      <td>3367</td>\n",
       "      <td>bert</td>\n",
       "      <td>1.0</td>\n",
       "    </tr>\n",
       "    <tr>\n",
       "      <th>4</th>\n",
       "      <td>['Classiques', 'Topology']</td>\n",
       "      <td>0.993424</td>\n",
       "      <td>0.992989</td>\n",
       "      <td>0.993860</td>\n",
       "      <td>3367</td>\n",
       "      <td>bert</td>\n",
       "      <td>1.0</td>\n",
       "    </tr>\n",
       "  </tbody>\n",
       "</table>\n",
       "</div>"
      ],
      "text/plain": [
       "                     Features        F1    Recall  Precision  Seed model  \\\n",
       "0              ['Classiques']  0.938552  0.977213   0.902834  3367  bert   \n",
       "1                ['Spectral']  0.950806  0.982472   0.921118  3367  bert   \n",
       "2                ['Topology']  0.991670  0.991236   0.992105  3367  bert   \n",
       "3  ['Classiques', 'Spectral']  0.993849  0.991236   0.996476  3367  bert   \n",
       "4  ['Classiques', 'Topology']  0.993424  0.992989   0.993860  3367  bert   \n",
       "\n",
       "   Execution  \n",
       "0        1.0  \n",
       "1        1.0  \n",
       "2        1.0  \n",
       "3        1.0  \n",
       "4        1.0  "
      ]
     },
     "execution_count": 20,
     "metadata": {},
     "output_type": "execute_result"
    }
   ],
   "source": [
    "df2=pd.read_csv('./ss/ablation_SS.csv')\n",
    "df2.head()"
   ]
  },
  {
   "cell_type": "markdown",
   "id": "71bbbde5",
   "metadata": {},
   "source": [
    "## 4. Feature Selection"
   ]
  },
  {
   "cell_type": "code",
   "execution_count": 45,
   "id": "f321152d",
   "metadata": {},
   "outputs": [],
   "source": [
    "\n",
    "dict_distances={'Classiques': ['Euclidean',\n",
    "  'Cosine',\n",
    "  'Pearson',\n",
    "  'Spearman',\n",
    "  'Minkowski',\n",
    "  'Canberra',\n",
    "  'Chebyshev'],\n",
    " 'Spectral': ['alpha_ReQ_a1',\n",
    "  'alpha_ReQ_a2',\n",
    "  'alpha_ReQ_A1',\n",
    "  'alpha_ReQ_A2',\n",
    "  'NESum_a1',\n",
    "  'NESum_a2',\n",
    "  'NESum_A1',\n",
    "  'NESum_A2',\n",
    "  'RankMe_a1',\n",
    "  'RankMe_a2',\n",
    "  'RankMe_A1',\n",
    "  'RankMe_A2',\n",
    "  'StableRank_a1',\n",
    "  'StableRank_a2',\n",
    "  'StableRank_A1',\n",
    "  'StableRank_A2',\n",
    "  'SelfCluster_a1',\n",
    "  'SelfCluster_a2',\n",
    "  'SelfCluster_A1',\n",
    "  'SelfCluster_A2'],\n",
    " 'Topology': ['h0_count_A1',\n",
    "  'h1_count_A1',\n",
    "  'h0_max_lifetime_A1',\n",
    "  'h1_max_lifetime_A1',\n",
    "  'euclidean_entropy_H0_A1',\n",
    "  'euclidean_entropy_H1_A1',\n",
    "  'h0_count_A2',\n",
    "  'h1_count_A2',\n",
    "  'h0_max_lifetime_A2',\n",
    "  'h1_max_lifetime_A2',\n",
    "  'euclidean_entropy_H0_A2',\n",
    "  'euclidean_entropy_H1_A2',\n",
    "  'h0_count_a1',\n",
    "  'h1_count_a1',\n",
    "  'h0_max_lifetime_a1',\n",
    "  'h1_max_lifetime_a1',\n",
    "  'euclidean_entropy_H0_a1',\n",
    "  'euclidean_entropy_H1_a1',\n",
    "  'h0_count_a2',\n",
    "  'h1_count_a2',\n",
    "  'h0_max_lifetime_a2',\n",
    "  'h1_max_lifetime_a2',\n",
    "  'euclidean_entropy_H0_a2',\n",
    "  'euclidean_entropy_H1_a2',\n",
    "  'h0_count_a1_a2',\n",
    "  'h1_count_a1_a2',\n",
    "  'h0_max_lifetime_a1_a2',\n",
    "  'h1_max_lifetime_a1_a2',\n",
    "  'euclidean_entropy_H0_a1_a2',\n",
    "  'euclidean_entropy_H1_a1_a2',\n",
    "  'euclidean_bottleneck_a1_a2',\n",
    "  'euclidean_wasserstein_a1_a2',\n",
    "  'euclidean_bottleneck_A1_A2',\n",
    "  'euclidean_wasserstein_A1_A2',\n",
    "  'cosine_entropy_H0_A1',\n",
    "  'cosine_entropy_H1_A1',\n",
    "  'cosine_entropy_H0_A2',\n",
    "  'cosine_entropy_H1_A2',\n",
    "  'cosine_entropy_H0_a1',\n",
    "  'cosine_entropy_H1_a1',\n",
    "  'cosine_entropy_H0_a2',\n",
    "  'cosine_entropy_H1_a2',\n",
    "  'cosine_entropy_H0_a1_a2',\n",
    "  'cosine_entropy_H1_a1_a2',\n",
    "  'cosine_bottleneck_a1_a2',\n",
    "  'cosine_wasserstein_a1_a2',\n",
    "  'cosine_bottleneck_A1_A2',\n",
    "  'cosine_wasserstein_A1_A2',\n",
    "  'manhattan_entropy_H0_A1',\n",
    "  'manhattan_entropy_H1_A1',\n",
    "  'manhattan_entropy_H0_A2',\n",
    "  'manhattan_entropy_H1_A2',\n",
    "  'manhattan_entropy_H0_a1',\n",
    "  'manhattan_entropy_H1_a1',\n",
    "  'manhattan_entropy_H0_a2',\n",
    "  'manhattan_entropy_H1_a2',\n",
    "  'manhattan_entropy_H0_a1_a2',\n",
    "  'manhattan_entropy_H1_a1_a2',\n",
    "  'manhattan_bottleneck_a1_a2',\n",
    "  'manhattan_wasserstein_a1_a2',\n",
    "  'manhattan_bottleneck_A1_A2',\n",
    "  'manhattan_wasserstein_A1_A2']}\n",
    "\n",
    "abbreviations={'Canberra': 'Canb',\n",
    " 'Chebyshev': 'Cheb',\n",
    " 'Euclidean': 'Eucl',\n",
    " 'NESum_A1': 'NES_A1',\n",
    " 'NESum_a1': 'NES_a1',\n",
    " 'NESum_a2': 'NES_a2',\n",
    " 'RankMe_A1': 'RM_A1',\n",
    " 'RankMe_A2': 'RM_A2',\n",
    " 'RankMe_a1': 'RM_a1',\n",
    " 'RankMe_a2': 'RM_a2',\n",
    " 'SelfCluster_A2': 'SC_A2',\n",
    " 'SelfCluster_a1': 'SC_a1',\n",
    " 'SelfCluster_a2': 'SC_a2',\n",
    " 'alpha_ReQ_A2': 'aRQ_A2',\n",
    " 'cosine_bottleneck_a1_a2': 'cosB_a1a2',\n",
    " 'cosine_entropy_H0_A1': 'cosE0_A1',\n",
    " 'cosine_entropy_H0_a1': 'cosE0_a1',\n",
    " 'cosine_entropy_H0_a1_a2': 'cosE0_a1a2',\n",
    " 'cosine_entropy_H0_a2': 'cosE0_a2',\n",
    " 'cosine_entropy_H1_A1': 'cosE1_A1',\n",
    " 'cosine_entropy_H1_a1': 'cosE1_a1',\n",
    " 'cosine_entropy_H1_a1_a2': 'cosE1_a1a2',\n",
    " 'cosine_entropy_H1_a2': 'cosE1_a2',\n",
    " 'cosine_wasserstein_A1_A2': 'cosW_A1A2',\n",
    " 'cosine_wasserstein_a1_a2': 'cosW_a1a2',\n",
    " 'euclidean_bottleneck_a1_a2': 'eucB_a1a2',\n",
    " 'euclidean_entropy_H0_A1': 'eucE0_A1',\n",
    " 'euclidean_entropy_H0_a1': 'eucE0_a1',\n",
    " 'euclidean_entropy_H0_a1_a2': 'eucE0_a1a2',\n",
    " 'euclidean_entropy_H0_a2': 'eucE0_a2',\n",
    " 'euclidean_entropy_H1_A1': 'eucE1_A1',\n",
    " 'euclidean_entropy_H1_a1': 'eucE1_a1',\n",
    " 'euclidean_entropy_H1_a1_a2': 'eucE1_a1a2',\n",
    " 'euclidean_entropy_H1_a2': 'eucE1_a2',\n",
    " 'euclidean_wasserstein_a1_a2': 'eucW_a1a2',\n",
    " 'h0_max_lifetime_A1': 'h0ml_A1',\n",
    " 'h0_max_lifetime_A2': 'h0ml_A2',\n",
    " 'h0_max_lifetime_a1_a2': 'h0ml_a1a2',\n",
    " 'h0_max_lifetime_a2': 'h0ml_a2',\n",
    " 'h1_count_a1': 'h1c_a1',\n",
    " 'h1_count_a1_a2': 'h1c_a1a2',\n",
    " 'h1_max_lifetime_a1': 'h1ml_a1',\n",
    " 'h1_max_lifetime_a1_a2': 'h1ml_a1a2',\n",
    " 'h1_max_lifetime_a2': 'h1ml_a2',\n",
    " 'manhattan_bottleneck_A1_A2': 'manB_A1A2'}"
   ]
  },
  {
   "cell_type": "code",
   "execution_count": 68,
   "id": "3dcc99b8",
   "metadata": {},
   "outputs": [
    {
     "name": "stdout",
     "output_type": "stream",
     "text": [
      "Selected Variables  (33):\n",
      "['Canberra', 'Chebyshev', 'Euclidean', 'ExecutionTime', 'NESum_A1', 'NESum_a1', 'RankMe_A2', 'RankMe_a2', 'SelfCluster_a1', 'SelfCluster_a2', 'alpha_ReQ_A2', 'cosine_bottleneck_a1_a2', 'cosine_entropy_H0_A1', 'cosine_entropy_H0_a1', 'cosine_entropy_H0_a1_a2', 'cosine_entropy_H0_a2', 'cosine_entropy_H1_a1', 'cosine_entropy_H1_a1_a2', 'cosine_entropy_H1_a2', 'cosine_wasserstein_A1_A2', 'cosine_wasserstein_a1_a2', 'euclidean_entropy_H0_a1', 'euclidean_entropy_H0_a2', 'euclidean_entropy_H1_a1', 'euclidean_entropy_H1_a1_a2', 'euclidean_entropy_H1_a2', 'h0_max_lifetime_a1_a2', 'h0_max_lifetime_a2', 'h1_count_a1', 'h1_count_a1_a2', 'h1_max_lifetime_a1', 'h1_max_lifetime_a1_a2', 'manhattan_bottleneck_A1_A2']\n",
      "Selected Variables  (33):\n",
      "['Canberra', 'Chebyshev', 'Euclidean', 'ExecutionTime', 'NESum_A1', 'NESum_a1', 'RankMe_A2', 'RankMe_a2', 'SelfCluster_a1', 'SelfCluster_a2', 'alpha_ReQ_A2', 'cosine_bottleneck_a1_a2', 'cosine_entropy_H0_A1', 'cosine_entropy_H0_a1', 'cosine_entropy_H0_a1_a2', 'cosine_entropy_H0_a2', 'cosine_entropy_H1_a1', 'cosine_entropy_H1_a1_a2', 'cosine_entropy_H1_a2', 'cosine_wasserstein_A1_A2', 'cosine_wasserstein_a1_a2', 'euclidean_entropy_H0_a1', 'euclidean_entropy_H0_a2', 'euclidean_entropy_H1_a1', 'euclidean_entropy_H1_a1_a2', 'euclidean_entropy_H1_a2', 'h0_max_lifetime_a1_a2', 'h0_max_lifetime_a2', 'h1_count_a1', 'h1_count_a1_a2', 'h1_max_lifetime_a1', 'h1_max_lifetime_a1_a2', 'manhattan_bottleneck_A1_A2', 'Canberra', 'Chebyshev', 'Euclidean', 'ExecutionTime', 'NESum_A1', 'NESum_a1', 'RankMe_A2', 'RankMe_a2', 'SelfCluster_a1', 'SelfCluster_a2', 'alpha_ReQ_A2', 'cosine_bottleneck_a1_a2', 'cosine_entropy_H0_A1', 'cosine_entropy_H0_a1', 'cosine_entropy_H0_a1_a2', 'cosine_entropy_H0_a2', 'cosine_entropy_H1_a1', 'cosine_entropy_H1_a1_a2', 'cosine_entropy_H1_a2', 'cosine_wasserstein_A1_A2', 'cosine_wasserstein_a1_a2', 'euclidean_entropy_H0_a1', 'euclidean_entropy_H0_a2', 'euclidean_entropy_H1_a1', 'euclidean_entropy_H1_a1_a2', 'euclidean_entropy_H1_a2', 'h0_max_lifetime_a1_a2', 'h0_max_lifetime_a2', 'h1_count_a1', 'h1_count_a1_a2', 'h1_max_lifetime_a1', 'h1_max_lifetime_a1_a2', 'manhattan_bottleneck_A1_A2']\n",
      "Selected Variables  (33):\n",
      "['Canberra', 'Chebyshev', 'Euclidean', 'ExecutionTime', 'NESum_A1', 'NESum_a1', 'RankMe_A2', 'RankMe_a2', 'SelfCluster_a1', 'SelfCluster_a2', 'alpha_ReQ_A2', 'cosine_bottleneck_a1_a2', 'cosine_entropy_H0_A1', 'cosine_entropy_H0_a1', 'cosine_entropy_H0_a1_a2', 'cosine_entropy_H0_a2', 'cosine_entropy_H1_a1', 'cosine_entropy_H1_a1_a2', 'cosine_entropy_H1_a2', 'cosine_wasserstein_A1_A2', 'cosine_wasserstein_a1_a2', 'euclidean_entropy_H0_a1', 'euclidean_entropy_H0_a2', 'euclidean_entropy_H1_a1', 'euclidean_entropy_H1_a1_a2', 'euclidean_entropy_H1_a2', 'h0_max_lifetime_a1_a2', 'h0_max_lifetime_a2', 'h1_count_a1', 'h1_count_a1_a2', 'h1_max_lifetime_a1', 'h1_max_lifetime_a1_a2', 'manhattan_bottleneck_A1_A2', 'Canberra', 'Chebyshev', 'Euclidean', 'ExecutionTime', 'NESum_A1', 'NESum_a1', 'RankMe_A2', 'RankMe_a2', 'SelfCluster_a1', 'SelfCluster_a2', 'alpha_ReQ_A2', 'cosine_bottleneck_a1_a2', 'cosine_entropy_H0_A1', 'cosine_entropy_H0_a1', 'cosine_entropy_H0_a1_a2', 'cosine_entropy_H0_a2', 'cosine_entropy_H1_a1', 'cosine_entropy_H1_a1_a2', 'cosine_entropy_H1_a2', 'cosine_wasserstein_A1_A2', 'cosine_wasserstein_a1_a2', 'euclidean_entropy_H0_a1', 'euclidean_entropy_H0_a2', 'euclidean_entropy_H1_a1', 'euclidean_entropy_H1_a1_a2', 'euclidean_entropy_H1_a2', 'h0_max_lifetime_a1_a2', 'h0_max_lifetime_a2', 'h1_count_a1', 'h1_count_a1_a2', 'h1_max_lifetime_a1', 'h1_max_lifetime_a1_a2', 'manhattan_bottleneck_A1_A2', 'Canberra', 'Chebyshev', 'Euclidean', 'ExecutionTime', 'NESum_A1', 'NESum_a1', 'RankMe_A2', 'RankMe_a2', 'SelfCluster_a1', 'SelfCluster_a2', 'alpha_ReQ_A2', 'cosine_bottleneck_a1_a2', 'cosine_entropy_H0_A1', 'cosine_entropy_H0_a1', 'cosine_entropy_H0_a1_a2', 'cosine_entropy_H0_a2', 'cosine_entropy_H1_a1', 'cosine_entropy_H1_a1_a2', 'cosine_entropy_H1_a2', 'cosine_wasserstein_A1_A2', 'cosine_wasserstein_a1_a2', 'euclidean_entropy_H0_a1', 'euclidean_entropy_H0_a2', 'euclidean_entropy_H1_a1', 'euclidean_entropy_H1_a1_a2', 'euclidean_entropy_H1_a2', 'h0_max_lifetime_a1_a2', 'h0_max_lifetime_a2', 'h1_count_a1', 'h1_count_a1_a2', 'h1_max_lifetime_a1', 'h1_max_lifetime_a1_a2', 'manhattan_bottleneck_A1_A2']\n",
      "Selected Variables  (33):\n",
      "['Canberra', 'Chebyshev', 'Euclidean', 'ExecutionTime', 'NESum_A1', 'NESum_a1', 'RankMe_A2', 'RankMe_a2', 'SelfCluster_a1', 'SelfCluster_a2', 'alpha_ReQ_A2', 'cosine_bottleneck_a1_a2', 'cosine_entropy_H0_A1', 'cosine_entropy_H0_a1', 'cosine_entropy_H0_a1_a2', 'cosine_entropy_H0_a2', 'cosine_entropy_H1_a1', 'cosine_entropy_H1_a1_a2', 'cosine_entropy_H1_a2', 'cosine_wasserstein_A1_A2', 'cosine_wasserstein_a1_a2', 'euclidean_entropy_H0_a1', 'euclidean_entropy_H0_a2', 'euclidean_entropy_H1_a1', 'euclidean_entropy_H1_a1_a2', 'euclidean_entropy_H1_a2', 'h0_max_lifetime_a1_a2', 'h0_max_lifetime_a2', 'h1_count_a1', 'h1_count_a1_a2', 'h1_max_lifetime_a1', 'h1_max_lifetime_a1_a2', 'manhattan_bottleneck_A1_A2', 'Canberra', 'Chebyshev', 'Euclidean', 'ExecutionTime', 'NESum_A1', 'NESum_a1', 'RankMe_A2', 'RankMe_a2', 'SelfCluster_a1', 'SelfCluster_a2', 'alpha_ReQ_A2', 'cosine_bottleneck_a1_a2', 'cosine_entropy_H0_A1', 'cosine_entropy_H0_a1', 'cosine_entropy_H0_a1_a2', 'cosine_entropy_H0_a2', 'cosine_entropy_H1_a1', 'cosine_entropy_H1_a1_a2', 'cosine_entropy_H1_a2', 'cosine_wasserstein_A1_A2', 'cosine_wasserstein_a1_a2', 'euclidean_entropy_H0_a1', 'euclidean_entropy_H0_a2', 'euclidean_entropy_H1_a1', 'euclidean_entropy_H1_a1_a2', 'euclidean_entropy_H1_a2', 'h0_max_lifetime_a1_a2', 'h0_max_lifetime_a2', 'h1_count_a1', 'h1_count_a1_a2', 'h1_max_lifetime_a1', 'h1_max_lifetime_a1_a2', 'manhattan_bottleneck_A1_A2', 'Canberra', 'Chebyshev', 'Euclidean', 'ExecutionTime', 'NESum_A1', 'NESum_a1', 'RankMe_A2', 'RankMe_a2', 'SelfCluster_a1', 'SelfCluster_a2', 'alpha_ReQ_A2', 'cosine_bottleneck_a1_a2', 'cosine_entropy_H0_A1', 'cosine_entropy_H0_a1', 'cosine_entropy_H0_a1_a2', 'cosine_entropy_H0_a2', 'cosine_entropy_H1_a1', 'cosine_entropy_H1_a1_a2', 'cosine_entropy_H1_a2', 'cosine_wasserstein_A1_A2', 'cosine_wasserstein_a1_a2', 'euclidean_entropy_H0_a1', 'euclidean_entropy_H0_a2', 'euclidean_entropy_H1_a1', 'euclidean_entropy_H1_a1_a2', 'euclidean_entropy_H1_a2', 'h0_max_lifetime_a1_a2', 'h0_max_lifetime_a2', 'h1_count_a1', 'h1_count_a1_a2', 'h1_max_lifetime_a1', 'h1_max_lifetime_a1_a2', 'manhattan_bottleneck_A1_A2', 'Canberra', 'Chebyshev', 'Euclidean', 'ExecutionTime', 'NESum_A1', 'NESum_a1', 'RankMe_A2', 'RankMe_a2', 'SelfCluster_a1', 'SelfCluster_a2', 'alpha_ReQ_A2', 'cosine_bottleneck_a1_a2', 'cosine_entropy_H0_A1', 'cosine_entropy_H0_a1', 'cosine_entropy_H0_a1_a2', 'cosine_entropy_H0_a2', 'cosine_entropy_H1_a1', 'cosine_entropy_H1_a1_a2', 'cosine_entropy_H1_a2', 'cosine_wasserstein_A1_A2', 'cosine_wasserstein_a1_a2', 'euclidean_entropy_H0_a1', 'euclidean_entropy_H0_a2', 'euclidean_entropy_H1_a1', 'euclidean_entropy_H1_a1_a2', 'euclidean_entropy_H1_a2', 'h0_max_lifetime_a1_a2', 'h0_max_lifetime_a2', 'h1_count_a1', 'h1_count_a1_a2', 'h1_max_lifetime_a1', 'h1_max_lifetime_a1_a2', 'manhattan_bottleneck_A1_A2']\n",
      "Selected Variables  (33):\n",
      "['Canberra', 'Chebyshev', 'Euclidean', 'ExecutionTime', 'NESum_A1', 'NESum_a1', 'RankMe_A2', 'RankMe_a2', 'SelfCluster_a1', 'SelfCluster_a2', 'alpha_ReQ_A2', 'cosine_bottleneck_a1_a2', 'cosine_entropy_H0_A1', 'cosine_entropy_H0_a1', 'cosine_entropy_H0_a1_a2', 'cosine_entropy_H0_a2', 'cosine_entropy_H1_a1', 'cosine_entropy_H1_a1_a2', 'cosine_entropy_H1_a2', 'cosine_wasserstein_A1_A2', 'cosine_wasserstein_a1_a2', 'euclidean_entropy_H0_a1', 'euclidean_entropy_H0_a2', 'euclidean_entropy_H1_a1', 'euclidean_entropy_H1_a1_a2', 'euclidean_entropy_H1_a2', 'h0_max_lifetime_a1_a2', 'h0_max_lifetime_a2', 'h1_count_a1', 'h1_count_a1_a2', 'h1_max_lifetime_a1', 'h1_max_lifetime_a1_a2', 'manhattan_bottleneck_A1_A2', 'Canberra', 'Chebyshev', 'Euclidean', 'ExecutionTime', 'NESum_A1', 'NESum_a1', 'RankMe_A2', 'RankMe_a2', 'SelfCluster_a1', 'SelfCluster_a2', 'alpha_ReQ_A2', 'cosine_bottleneck_a1_a2', 'cosine_entropy_H0_A1', 'cosine_entropy_H0_a1', 'cosine_entropy_H0_a1_a2', 'cosine_entropy_H0_a2', 'cosine_entropy_H1_a1', 'cosine_entropy_H1_a1_a2', 'cosine_entropy_H1_a2', 'cosine_wasserstein_A1_A2', 'cosine_wasserstein_a1_a2', 'euclidean_entropy_H0_a1', 'euclidean_entropy_H0_a2', 'euclidean_entropy_H1_a1', 'euclidean_entropy_H1_a1_a2', 'euclidean_entropy_H1_a2', 'h0_max_lifetime_a1_a2', 'h0_max_lifetime_a2', 'h1_count_a1', 'h1_count_a1_a2', 'h1_max_lifetime_a1', 'h1_max_lifetime_a1_a2', 'manhattan_bottleneck_A1_A2', 'Canberra', 'Chebyshev', 'Euclidean', 'ExecutionTime', 'NESum_A1', 'NESum_a1', 'RankMe_A2', 'RankMe_a2', 'SelfCluster_a1', 'SelfCluster_a2', 'alpha_ReQ_A2', 'cosine_bottleneck_a1_a2', 'cosine_entropy_H0_A1', 'cosine_entropy_H0_a1', 'cosine_entropy_H0_a1_a2', 'cosine_entropy_H0_a2', 'cosine_entropy_H1_a1', 'cosine_entropy_H1_a1_a2', 'cosine_entropy_H1_a2', 'cosine_wasserstein_A1_A2', 'cosine_wasserstein_a1_a2', 'euclidean_entropy_H0_a1', 'euclidean_entropy_H0_a2', 'euclidean_entropy_H1_a1', 'euclidean_entropy_H1_a1_a2', 'euclidean_entropy_H1_a2', 'h0_max_lifetime_a1_a2', 'h0_max_lifetime_a2', 'h1_count_a1', 'h1_count_a1_a2', 'h1_max_lifetime_a1', 'h1_max_lifetime_a1_a2', 'manhattan_bottleneck_A1_A2', 'Canberra', 'Chebyshev', 'Euclidean', 'ExecutionTime', 'NESum_A1', 'NESum_a1', 'RankMe_A2', 'RankMe_a2', 'SelfCluster_a1', 'SelfCluster_a2', 'alpha_ReQ_A2', 'cosine_bottleneck_a1_a2', 'cosine_entropy_H0_A1', 'cosine_entropy_H0_a1', 'cosine_entropy_H0_a1_a2', 'cosine_entropy_H0_a2', 'cosine_entropy_H1_a1', 'cosine_entropy_H1_a1_a2', 'cosine_entropy_H1_a2', 'cosine_wasserstein_A1_A2', 'cosine_wasserstein_a1_a2', 'euclidean_entropy_H0_a1', 'euclidean_entropy_H0_a2', 'euclidean_entropy_H1_a1', 'euclidean_entropy_H1_a1_a2', 'euclidean_entropy_H1_a2', 'h0_max_lifetime_a1_a2', 'h0_max_lifetime_a2', 'h1_count_a1', 'h1_count_a1_a2', 'h1_max_lifetime_a1', 'h1_max_lifetime_a1_a2', 'manhattan_bottleneck_A1_A2', 'Canberra', 'Chebyshev', 'Euclidean', 'ExecutionTime', 'NESum_A1', 'NESum_a1', 'RankMe_A2', 'RankMe_a2', 'SelfCluster_a1', 'SelfCluster_a2', 'alpha_ReQ_A2', 'cosine_bottleneck_a1_a2', 'cosine_entropy_H0_A1', 'cosine_entropy_H0_a1', 'cosine_entropy_H0_a1_a2', 'cosine_entropy_H0_a2', 'cosine_entropy_H1_a1', 'cosine_entropy_H1_a1_a2', 'cosine_entropy_H1_a2', 'cosine_wasserstein_A1_A2', 'cosine_wasserstein_a1_a2', 'euclidean_entropy_H0_a1', 'euclidean_entropy_H0_a2', 'euclidean_entropy_H1_a1', 'euclidean_entropy_H1_a1_a2', 'euclidean_entropy_H1_a2', 'h0_max_lifetime_a1_a2', 'h0_max_lifetime_a2', 'h1_count_a1', 'h1_count_a1_a2', 'h1_max_lifetime_a1', 'h1_max_lifetime_a1_a2', 'manhattan_bottleneck_A1_A2']\n",
      "Selected Variables  (33):\n",
      "['Canberra', 'Chebyshev', 'Euclidean', 'ExecutionTime', 'NESum_A1', 'NESum_a1', 'RankMe_A2', 'RankMe_a2', 'SelfCluster_a1', 'SelfCluster_a2', 'alpha_ReQ_A2', 'cosine_bottleneck_a1_a2', 'cosine_entropy_H0_A1', 'cosine_entropy_H0_a1', 'cosine_entropy_H0_a1_a2', 'cosine_entropy_H0_a2', 'cosine_entropy_H1_a1', 'cosine_entropy_H1_a1_a2', 'cosine_entropy_H1_a2', 'cosine_wasserstein_A1_A2', 'cosine_wasserstein_a1_a2', 'euclidean_entropy_H0_a1', 'euclidean_entropy_H0_a2', 'euclidean_entropy_H1_a1', 'euclidean_entropy_H1_a1_a2', 'euclidean_entropy_H1_a2', 'h0_max_lifetime_a1_a2', 'h0_max_lifetime_a2', 'h1_count_a1', 'h1_count_a1_a2', 'h1_max_lifetime_a1', 'h1_max_lifetime_a1_a2', 'manhattan_bottleneck_A1_A2', 'Canberra', 'Chebyshev', 'Euclidean', 'ExecutionTime', 'NESum_A1', 'NESum_a1', 'RankMe_A2', 'RankMe_a2', 'SelfCluster_a1', 'SelfCluster_a2', 'alpha_ReQ_A2', 'cosine_bottleneck_a1_a2', 'cosine_entropy_H0_A1', 'cosine_entropy_H0_a1', 'cosine_entropy_H0_a1_a2', 'cosine_entropy_H0_a2', 'cosine_entropy_H1_a1', 'cosine_entropy_H1_a1_a2', 'cosine_entropy_H1_a2', 'cosine_wasserstein_A1_A2', 'cosine_wasserstein_a1_a2', 'euclidean_entropy_H0_a1', 'euclidean_entropy_H0_a2', 'euclidean_entropy_H1_a1', 'euclidean_entropy_H1_a1_a2', 'euclidean_entropy_H1_a2', 'h0_max_lifetime_a1_a2', 'h0_max_lifetime_a2', 'h1_count_a1', 'h1_count_a1_a2', 'h1_max_lifetime_a1', 'h1_max_lifetime_a1_a2', 'manhattan_bottleneck_A1_A2', 'Canberra', 'Chebyshev', 'Euclidean', 'ExecutionTime', 'NESum_A1', 'NESum_a1', 'RankMe_A2', 'RankMe_a2', 'SelfCluster_a1', 'SelfCluster_a2', 'alpha_ReQ_A2', 'cosine_bottleneck_a1_a2', 'cosine_entropy_H0_A1', 'cosine_entropy_H0_a1', 'cosine_entropy_H0_a1_a2', 'cosine_entropy_H0_a2', 'cosine_entropy_H1_a1', 'cosine_entropy_H1_a1_a2', 'cosine_entropy_H1_a2', 'cosine_wasserstein_A1_A2', 'cosine_wasserstein_a1_a2', 'euclidean_entropy_H0_a1', 'euclidean_entropy_H0_a2', 'euclidean_entropy_H1_a1', 'euclidean_entropy_H1_a1_a2', 'euclidean_entropy_H1_a2', 'h0_max_lifetime_a1_a2', 'h0_max_lifetime_a2', 'h1_count_a1', 'h1_count_a1_a2', 'h1_max_lifetime_a1', 'h1_max_lifetime_a1_a2', 'manhattan_bottleneck_A1_A2', 'Canberra', 'Chebyshev', 'Euclidean', 'ExecutionTime', 'NESum_A1', 'NESum_a1', 'RankMe_A2', 'RankMe_a2', 'SelfCluster_a1', 'SelfCluster_a2', 'alpha_ReQ_A2', 'cosine_bottleneck_a1_a2', 'cosine_entropy_H0_A1', 'cosine_entropy_H0_a1', 'cosine_entropy_H0_a1_a2', 'cosine_entropy_H0_a2', 'cosine_entropy_H1_a1', 'cosine_entropy_H1_a1_a2', 'cosine_entropy_H1_a2', 'cosine_wasserstein_A1_A2', 'cosine_wasserstein_a1_a2', 'euclidean_entropy_H0_a1', 'euclidean_entropy_H0_a2', 'euclidean_entropy_H1_a1', 'euclidean_entropy_H1_a1_a2', 'euclidean_entropy_H1_a2', 'h0_max_lifetime_a1_a2', 'h0_max_lifetime_a2', 'h1_count_a1', 'h1_count_a1_a2', 'h1_max_lifetime_a1', 'h1_max_lifetime_a1_a2', 'manhattan_bottleneck_A1_A2', 'Canberra', 'Chebyshev', 'Euclidean', 'ExecutionTime', 'NESum_A1', 'NESum_a1', 'RankMe_A2', 'RankMe_a2', 'SelfCluster_a1', 'SelfCluster_a2', 'alpha_ReQ_A2', 'cosine_bottleneck_a1_a2', 'cosine_entropy_H0_A1', 'cosine_entropy_H0_a1', 'cosine_entropy_H0_a1_a2', 'cosine_entropy_H0_a2', 'cosine_entropy_H1_a1', 'cosine_entropy_H1_a1_a2', 'cosine_entropy_H1_a2', 'cosine_wasserstein_A1_A2', 'cosine_wasserstein_a1_a2', 'euclidean_entropy_H0_a1', 'euclidean_entropy_H0_a2', 'euclidean_entropy_H1_a1', 'euclidean_entropy_H1_a1_a2', 'euclidean_entropy_H1_a2', 'h0_max_lifetime_a1_a2', 'h0_max_lifetime_a2', 'h1_count_a1', 'h1_count_a1_a2', 'h1_max_lifetime_a1', 'h1_max_lifetime_a1_a2', 'manhattan_bottleneck_A1_A2', 'Canberra', 'Chebyshev', 'Euclidean', 'ExecutionTime', 'NESum_A1', 'NESum_a1', 'RankMe_A2', 'RankMe_a2', 'SelfCluster_a1', 'SelfCluster_a2', 'alpha_ReQ_A2', 'cosine_bottleneck_a1_a2', 'cosine_entropy_H0_A1', 'cosine_entropy_H0_a1', 'cosine_entropy_H0_a1_a2', 'cosine_entropy_H0_a2', 'cosine_entropy_H1_a1', 'cosine_entropy_H1_a1_a2', 'cosine_entropy_H1_a2', 'cosine_wasserstein_A1_A2', 'cosine_wasserstein_a1_a2', 'euclidean_entropy_H0_a1', 'euclidean_entropy_H0_a2', 'euclidean_entropy_H1_a1', 'euclidean_entropy_H1_a1_a2', 'euclidean_entropy_H1_a2', 'h0_max_lifetime_a1_a2', 'h0_max_lifetime_a2', 'h1_count_a1', 'h1_count_a1_a2', 'h1_max_lifetime_a1', 'h1_max_lifetime_a1_a2', 'manhattan_bottleneck_A1_A2']\n",
      "Selected Variables  (33):\n",
      "['Canberra', 'Chebyshev', 'Euclidean', 'ExecutionTime', 'NESum_A1', 'NESum_a1', 'RankMe_A2', 'RankMe_a2', 'SelfCluster_a1', 'SelfCluster_a2', 'alpha_ReQ_A2', 'cosine_bottleneck_a1_a2', 'cosine_entropy_H0_A1', 'cosine_entropy_H0_a1', 'cosine_entropy_H0_a1_a2', 'cosine_entropy_H0_a2', 'cosine_entropy_H1_a1', 'cosine_entropy_H1_a1_a2', 'cosine_entropy_H1_a2', 'cosine_wasserstein_A1_A2', 'cosine_wasserstein_a1_a2', 'euclidean_entropy_H0_a1', 'euclidean_entropy_H0_a2', 'euclidean_entropy_H1_a1', 'euclidean_entropy_H1_a1_a2', 'euclidean_entropy_H1_a2', 'h0_max_lifetime_a1_a2', 'h0_max_lifetime_a2', 'h1_count_a1', 'h1_count_a1_a2', 'h1_max_lifetime_a1', 'h1_max_lifetime_a1_a2', 'manhattan_bottleneck_A1_A2', 'Canberra', 'Chebyshev', 'Euclidean', 'ExecutionTime', 'NESum_A1', 'NESum_a1', 'RankMe_A2', 'RankMe_a2', 'SelfCluster_a1', 'SelfCluster_a2', 'alpha_ReQ_A2', 'cosine_bottleneck_a1_a2', 'cosine_entropy_H0_A1', 'cosine_entropy_H0_a1', 'cosine_entropy_H0_a1_a2', 'cosine_entropy_H0_a2', 'cosine_entropy_H1_a1', 'cosine_entropy_H1_a1_a2', 'cosine_entropy_H1_a2', 'cosine_wasserstein_A1_A2', 'cosine_wasserstein_a1_a2', 'euclidean_entropy_H0_a1', 'euclidean_entropy_H0_a2', 'euclidean_entropy_H1_a1', 'euclidean_entropy_H1_a1_a2', 'euclidean_entropy_H1_a2', 'h0_max_lifetime_a1_a2', 'h0_max_lifetime_a2', 'h1_count_a1', 'h1_count_a1_a2', 'h1_max_lifetime_a1', 'h1_max_lifetime_a1_a2', 'manhattan_bottleneck_A1_A2', 'Canberra', 'Chebyshev', 'Euclidean', 'ExecutionTime', 'NESum_A1', 'NESum_a1', 'RankMe_A2', 'RankMe_a2', 'SelfCluster_a1', 'SelfCluster_a2', 'alpha_ReQ_A2', 'cosine_bottleneck_a1_a2', 'cosine_entropy_H0_A1', 'cosine_entropy_H0_a1', 'cosine_entropy_H0_a1_a2', 'cosine_entropy_H0_a2', 'cosine_entropy_H1_a1', 'cosine_entropy_H1_a1_a2', 'cosine_entropy_H1_a2', 'cosine_wasserstein_A1_A2', 'cosine_wasserstein_a1_a2', 'euclidean_entropy_H0_a1', 'euclidean_entropy_H0_a2', 'euclidean_entropy_H1_a1', 'euclidean_entropy_H1_a1_a2', 'euclidean_entropy_H1_a2', 'h0_max_lifetime_a1_a2', 'h0_max_lifetime_a2', 'h1_count_a1', 'h1_count_a1_a2', 'h1_max_lifetime_a1', 'h1_max_lifetime_a1_a2', 'manhattan_bottleneck_A1_A2', 'Canberra', 'Chebyshev', 'Euclidean', 'ExecutionTime', 'NESum_A1', 'NESum_a1', 'RankMe_A2', 'RankMe_a2', 'SelfCluster_a1', 'SelfCluster_a2', 'alpha_ReQ_A2', 'cosine_bottleneck_a1_a2', 'cosine_entropy_H0_A1', 'cosine_entropy_H0_a1', 'cosine_entropy_H0_a1_a2', 'cosine_entropy_H0_a2', 'cosine_entropy_H1_a1', 'cosine_entropy_H1_a1_a2', 'cosine_entropy_H1_a2', 'cosine_wasserstein_A1_A2', 'cosine_wasserstein_a1_a2', 'euclidean_entropy_H0_a1', 'euclidean_entropy_H0_a2', 'euclidean_entropy_H1_a1', 'euclidean_entropy_H1_a1_a2', 'euclidean_entropy_H1_a2', 'h0_max_lifetime_a1_a2', 'h0_max_lifetime_a2', 'h1_count_a1', 'h1_count_a1_a2', 'h1_max_lifetime_a1', 'h1_max_lifetime_a1_a2', 'manhattan_bottleneck_A1_A2', 'Canberra', 'Chebyshev', 'Euclidean', 'ExecutionTime', 'NESum_A1', 'NESum_a1', 'RankMe_A2', 'RankMe_a2', 'SelfCluster_a1', 'SelfCluster_a2', 'alpha_ReQ_A2', 'cosine_bottleneck_a1_a2', 'cosine_entropy_H0_A1', 'cosine_entropy_H0_a1', 'cosine_entropy_H0_a1_a2', 'cosine_entropy_H0_a2', 'cosine_entropy_H1_a1', 'cosine_entropy_H1_a1_a2', 'cosine_entropy_H1_a2', 'cosine_wasserstein_A1_A2', 'cosine_wasserstein_a1_a2', 'euclidean_entropy_H0_a1', 'euclidean_entropy_H0_a2', 'euclidean_entropy_H1_a1', 'euclidean_entropy_H1_a1_a2', 'euclidean_entropy_H1_a2', 'h0_max_lifetime_a1_a2', 'h0_max_lifetime_a2', 'h1_count_a1', 'h1_count_a1_a2', 'h1_max_lifetime_a1', 'h1_max_lifetime_a1_a2', 'manhattan_bottleneck_A1_A2', 'Canberra', 'Chebyshev', 'Euclidean', 'ExecutionTime', 'NESum_A1', 'NESum_a1', 'RankMe_A2', 'RankMe_a2', 'SelfCluster_a1', 'SelfCluster_a2', 'alpha_ReQ_A2', 'cosine_bottleneck_a1_a2', 'cosine_entropy_H0_A1', 'cosine_entropy_H0_a1', 'cosine_entropy_H0_a1_a2', 'cosine_entropy_H0_a2', 'cosine_entropy_H1_a1', 'cosine_entropy_H1_a1_a2', 'cosine_entropy_H1_a2', 'cosine_wasserstein_A1_A2', 'cosine_wasserstein_a1_a2', 'euclidean_entropy_H0_a1', 'euclidean_entropy_H0_a2', 'euclidean_entropy_H1_a1', 'euclidean_entropy_H1_a1_a2', 'euclidean_entropy_H1_a2', 'h0_max_lifetime_a1_a2', 'h0_max_lifetime_a2', 'h1_count_a1', 'h1_count_a1_a2', 'h1_max_lifetime_a1', 'h1_max_lifetime_a1_a2', 'manhattan_bottleneck_A1_A2', 'Canberra', 'Chebyshev', 'Euclidean', 'ExecutionTime', 'NESum_A1', 'NESum_a1', 'RankMe_A2', 'RankMe_a2', 'SelfCluster_a1', 'SelfCluster_a2', 'alpha_ReQ_A2', 'cosine_bottleneck_a1_a2', 'cosine_entropy_H0_A1', 'cosine_entropy_H0_a1', 'cosine_entropy_H0_a1_a2', 'cosine_entropy_H0_a2', 'cosine_entropy_H1_a1', 'cosine_entropy_H1_a1_a2', 'cosine_entropy_H1_a2', 'cosine_wasserstein_A1_A2', 'cosine_wasserstein_a1_a2', 'euclidean_entropy_H0_a1', 'euclidean_entropy_H0_a2', 'euclidean_entropy_H1_a1', 'euclidean_entropy_H1_a1_a2', 'euclidean_entropy_H1_a2', 'h0_max_lifetime_a1_a2', 'h0_max_lifetime_a2', 'h1_count_a1', 'h1_count_a1_a2', 'h1_max_lifetime_a1', 'h1_max_lifetime_a1_a2', 'manhattan_bottleneck_A1_A2']\n",
      "Selected Variables  (33):\n",
      "['Canberra', 'Chebyshev', 'Euclidean', 'ExecutionTime', 'NESum_A1', 'NESum_a1', 'RankMe_A2', 'RankMe_a2', 'SelfCluster_a1', 'SelfCluster_a2', 'alpha_ReQ_A2', 'cosine_bottleneck_a1_a2', 'cosine_entropy_H0_A1', 'cosine_entropy_H0_a1', 'cosine_entropy_H0_a1_a2', 'cosine_entropy_H0_a2', 'cosine_entropy_H1_a1', 'cosine_entropy_H1_a1_a2', 'cosine_entropy_H1_a2', 'cosine_wasserstein_A1_A2', 'cosine_wasserstein_a1_a2', 'euclidean_entropy_H0_a1', 'euclidean_entropy_H0_a2', 'euclidean_entropy_H1_a1', 'euclidean_entropy_H1_a1_a2', 'euclidean_entropy_H1_a2', 'h0_max_lifetime_a1_a2', 'h0_max_lifetime_a2', 'h1_count_a1', 'h1_count_a1_a2', 'h1_max_lifetime_a1', 'h1_max_lifetime_a1_a2', 'manhattan_bottleneck_A1_A2', 'Canberra', 'Chebyshev', 'Euclidean', 'ExecutionTime', 'NESum_A1', 'NESum_a1', 'RankMe_A2', 'RankMe_a2', 'SelfCluster_a1', 'SelfCluster_a2', 'alpha_ReQ_A2', 'cosine_bottleneck_a1_a2', 'cosine_entropy_H0_A1', 'cosine_entropy_H0_a1', 'cosine_entropy_H0_a1_a2', 'cosine_entropy_H0_a2', 'cosine_entropy_H1_a1', 'cosine_entropy_H1_a1_a2', 'cosine_entropy_H1_a2', 'cosine_wasserstein_A1_A2', 'cosine_wasserstein_a1_a2', 'euclidean_entropy_H0_a1', 'euclidean_entropy_H0_a2', 'euclidean_entropy_H1_a1', 'euclidean_entropy_H1_a1_a2', 'euclidean_entropy_H1_a2', 'h0_max_lifetime_a1_a2', 'h0_max_lifetime_a2', 'h1_count_a1', 'h1_count_a1_a2', 'h1_max_lifetime_a1', 'h1_max_lifetime_a1_a2', 'manhattan_bottleneck_A1_A2', 'Canberra', 'Chebyshev', 'Euclidean', 'ExecutionTime', 'NESum_A1', 'NESum_a1', 'RankMe_A2', 'RankMe_a2', 'SelfCluster_a1', 'SelfCluster_a2', 'alpha_ReQ_A2', 'cosine_bottleneck_a1_a2', 'cosine_entropy_H0_A1', 'cosine_entropy_H0_a1', 'cosine_entropy_H0_a1_a2', 'cosine_entropy_H0_a2', 'cosine_entropy_H1_a1', 'cosine_entropy_H1_a1_a2', 'cosine_entropy_H1_a2', 'cosine_wasserstein_A1_A2', 'cosine_wasserstein_a1_a2', 'euclidean_entropy_H0_a1', 'euclidean_entropy_H0_a2', 'euclidean_entropy_H1_a1', 'euclidean_entropy_H1_a1_a2', 'euclidean_entropy_H1_a2', 'h0_max_lifetime_a1_a2', 'h0_max_lifetime_a2', 'h1_count_a1', 'h1_count_a1_a2', 'h1_max_lifetime_a1', 'h1_max_lifetime_a1_a2', 'manhattan_bottleneck_A1_A2', 'Canberra', 'Chebyshev', 'Euclidean', 'ExecutionTime', 'NESum_A1', 'NESum_a1', 'RankMe_A2', 'RankMe_a2', 'SelfCluster_a1', 'SelfCluster_a2', 'alpha_ReQ_A2', 'cosine_bottleneck_a1_a2', 'cosine_entropy_H0_A1', 'cosine_entropy_H0_a1', 'cosine_entropy_H0_a1_a2', 'cosine_entropy_H0_a2', 'cosine_entropy_H1_a1', 'cosine_entropy_H1_a1_a2', 'cosine_entropy_H1_a2', 'cosine_wasserstein_A1_A2', 'cosine_wasserstein_a1_a2', 'euclidean_entropy_H0_a1', 'euclidean_entropy_H0_a2', 'euclidean_entropy_H1_a1', 'euclidean_entropy_H1_a1_a2', 'euclidean_entropy_H1_a2', 'h0_max_lifetime_a1_a2', 'h0_max_lifetime_a2', 'h1_count_a1', 'h1_count_a1_a2', 'h1_max_lifetime_a1', 'h1_max_lifetime_a1_a2', 'manhattan_bottleneck_A1_A2', 'Canberra', 'Chebyshev', 'Euclidean', 'ExecutionTime', 'NESum_A1', 'NESum_a1', 'RankMe_A2', 'RankMe_a2', 'SelfCluster_a1', 'SelfCluster_a2', 'alpha_ReQ_A2', 'cosine_bottleneck_a1_a2', 'cosine_entropy_H0_A1', 'cosine_entropy_H0_a1', 'cosine_entropy_H0_a1_a2', 'cosine_entropy_H0_a2', 'cosine_entropy_H1_a1', 'cosine_entropy_H1_a1_a2', 'cosine_entropy_H1_a2', 'cosine_wasserstein_A1_A2', 'cosine_wasserstein_a1_a2', 'euclidean_entropy_H0_a1', 'euclidean_entropy_H0_a2', 'euclidean_entropy_H1_a1', 'euclidean_entropy_H1_a1_a2', 'euclidean_entropy_H1_a2', 'h0_max_lifetime_a1_a2', 'h0_max_lifetime_a2', 'h1_count_a1', 'h1_count_a1_a2', 'h1_max_lifetime_a1', 'h1_max_lifetime_a1_a2', 'manhattan_bottleneck_A1_A2', 'Canberra', 'Chebyshev', 'Euclidean', 'ExecutionTime', 'NESum_A1', 'NESum_a1', 'RankMe_A2', 'RankMe_a2', 'SelfCluster_a1', 'SelfCluster_a2', 'alpha_ReQ_A2', 'cosine_bottleneck_a1_a2', 'cosine_entropy_H0_A1', 'cosine_entropy_H0_a1', 'cosine_entropy_H0_a1_a2', 'cosine_entropy_H0_a2', 'cosine_entropy_H1_a1', 'cosine_entropy_H1_a1_a2', 'cosine_entropy_H1_a2', 'cosine_wasserstein_A1_A2', 'cosine_wasserstein_a1_a2', 'euclidean_entropy_H0_a1', 'euclidean_entropy_H0_a2', 'euclidean_entropy_H1_a1', 'euclidean_entropy_H1_a1_a2', 'euclidean_entropy_H1_a2', 'h0_max_lifetime_a1_a2', 'h0_max_lifetime_a2', 'h1_count_a1', 'h1_count_a1_a2', 'h1_max_lifetime_a1', 'h1_max_lifetime_a1_a2', 'manhattan_bottleneck_A1_A2', 'Canberra', 'Chebyshev', 'Euclidean', 'ExecutionTime', 'NESum_A1', 'NESum_a1', 'RankMe_A2', 'RankMe_a2', 'SelfCluster_a1', 'SelfCluster_a2', 'alpha_ReQ_A2', 'cosine_bottleneck_a1_a2', 'cosine_entropy_H0_A1', 'cosine_entropy_H0_a1', 'cosine_entropy_H0_a1_a2', 'cosine_entropy_H0_a2', 'cosine_entropy_H1_a1', 'cosine_entropy_H1_a1_a2', 'cosine_entropy_H1_a2', 'cosine_wasserstein_A1_A2', 'cosine_wasserstein_a1_a2', 'euclidean_entropy_H0_a1', 'euclidean_entropy_H0_a2', 'euclidean_entropy_H1_a1', 'euclidean_entropy_H1_a1_a2', 'euclidean_entropy_H1_a2', 'h0_max_lifetime_a1_a2', 'h0_max_lifetime_a2', 'h1_count_a1', 'h1_count_a1_a2', 'h1_max_lifetime_a1', 'h1_max_lifetime_a1_a2', 'manhattan_bottleneck_A1_A2', 'Canberra', 'Chebyshev', 'Euclidean', 'ExecutionTime', 'NESum_A1', 'NESum_a1', 'RankMe_A2', 'RankMe_a2', 'SelfCluster_a1', 'SelfCluster_a2', 'alpha_ReQ_A2', 'cosine_bottleneck_a1_a2', 'cosine_entropy_H0_A1', 'cosine_entropy_H0_a1', 'cosine_entropy_H0_a1_a2', 'cosine_entropy_H0_a2', 'cosine_entropy_H1_a1', 'cosine_entropy_H1_a1_a2', 'cosine_entropy_H1_a2', 'cosine_wasserstein_A1_A2', 'cosine_wasserstein_a1_a2', 'euclidean_entropy_H0_a1', 'euclidean_entropy_H0_a2', 'euclidean_entropy_H1_a1', 'euclidean_entropy_H1_a1_a2', 'euclidean_entropy_H1_a2', 'h0_max_lifetime_a1_a2', 'h0_max_lifetime_a2', 'h1_count_a1', 'h1_count_a1_a2', 'h1_max_lifetime_a1', 'h1_max_lifetime_a1_a2', 'manhattan_bottleneck_A1_A2']\n",
      "Selected Variables  (33):\n",
      "['Canberra', 'Chebyshev', 'Euclidean', 'ExecutionTime', 'NESum_A1', 'NESum_a1', 'RankMe_A2', 'RankMe_a2', 'SelfCluster_a1', 'SelfCluster_a2', 'alpha_ReQ_A2', 'cosine_bottleneck_a1_a2', 'cosine_entropy_H0_A1', 'cosine_entropy_H0_a1', 'cosine_entropy_H0_a1_a2', 'cosine_entropy_H0_a2', 'cosine_entropy_H1_a1', 'cosine_entropy_H1_a1_a2', 'cosine_entropy_H1_a2', 'cosine_wasserstein_A1_A2', 'cosine_wasserstein_a1_a2', 'euclidean_entropy_H0_a1', 'euclidean_entropy_H0_a2', 'euclidean_entropy_H1_a1', 'euclidean_entropy_H1_a1_a2', 'euclidean_entropy_H1_a2', 'h0_max_lifetime_a1_a2', 'h0_max_lifetime_a2', 'h1_count_a1', 'h1_count_a1_a2', 'h1_max_lifetime_a1', 'h1_max_lifetime_a1_a2', 'manhattan_bottleneck_A1_A2', 'Canberra', 'Chebyshev', 'Euclidean', 'ExecutionTime', 'NESum_A1', 'NESum_a1', 'RankMe_A2', 'RankMe_a2', 'SelfCluster_a1', 'SelfCluster_a2', 'alpha_ReQ_A2', 'cosine_bottleneck_a1_a2', 'cosine_entropy_H0_A1', 'cosine_entropy_H0_a1', 'cosine_entropy_H0_a1_a2', 'cosine_entropy_H0_a2', 'cosine_entropy_H1_a1', 'cosine_entropy_H1_a1_a2', 'cosine_entropy_H1_a2', 'cosine_wasserstein_A1_A2', 'cosine_wasserstein_a1_a2', 'euclidean_entropy_H0_a1', 'euclidean_entropy_H0_a2', 'euclidean_entropy_H1_a1', 'euclidean_entropy_H1_a1_a2', 'euclidean_entropy_H1_a2', 'h0_max_lifetime_a1_a2', 'h0_max_lifetime_a2', 'h1_count_a1', 'h1_count_a1_a2', 'h1_max_lifetime_a1', 'h1_max_lifetime_a1_a2', 'manhattan_bottleneck_A1_A2', 'Canberra', 'Chebyshev', 'Euclidean', 'ExecutionTime', 'NESum_A1', 'NESum_a1', 'RankMe_A2', 'RankMe_a2', 'SelfCluster_a1', 'SelfCluster_a2', 'alpha_ReQ_A2', 'cosine_bottleneck_a1_a2', 'cosine_entropy_H0_A1', 'cosine_entropy_H0_a1', 'cosine_entropy_H0_a1_a2', 'cosine_entropy_H0_a2', 'cosine_entropy_H1_a1', 'cosine_entropy_H1_a1_a2', 'cosine_entropy_H1_a2', 'cosine_wasserstein_A1_A2', 'cosine_wasserstein_a1_a2', 'euclidean_entropy_H0_a1', 'euclidean_entropy_H0_a2', 'euclidean_entropy_H1_a1', 'euclidean_entropy_H1_a1_a2', 'euclidean_entropy_H1_a2', 'h0_max_lifetime_a1_a2', 'h0_max_lifetime_a2', 'h1_count_a1', 'h1_count_a1_a2', 'h1_max_lifetime_a1', 'h1_max_lifetime_a1_a2', 'manhattan_bottleneck_A1_A2', 'Canberra', 'Chebyshev', 'Euclidean', 'ExecutionTime', 'NESum_A1', 'NESum_a1', 'RankMe_A2', 'RankMe_a2', 'SelfCluster_a1', 'SelfCluster_a2', 'alpha_ReQ_A2', 'cosine_bottleneck_a1_a2', 'cosine_entropy_H0_A1', 'cosine_entropy_H0_a1', 'cosine_entropy_H0_a1_a2', 'cosine_entropy_H0_a2', 'cosine_entropy_H1_a1', 'cosine_entropy_H1_a1_a2', 'cosine_entropy_H1_a2', 'cosine_wasserstein_A1_A2', 'cosine_wasserstein_a1_a2', 'euclidean_entropy_H0_a1', 'euclidean_entropy_H0_a2', 'euclidean_entropy_H1_a1', 'euclidean_entropy_H1_a1_a2', 'euclidean_entropy_H1_a2', 'h0_max_lifetime_a1_a2', 'h0_max_lifetime_a2', 'h1_count_a1', 'h1_count_a1_a2', 'h1_max_lifetime_a1', 'h1_max_lifetime_a1_a2', 'manhattan_bottleneck_A1_A2', 'Canberra', 'Chebyshev', 'Euclidean', 'ExecutionTime', 'NESum_A1', 'NESum_a1', 'RankMe_A2', 'RankMe_a2', 'SelfCluster_a1', 'SelfCluster_a2', 'alpha_ReQ_A2', 'cosine_bottleneck_a1_a2', 'cosine_entropy_H0_A1', 'cosine_entropy_H0_a1', 'cosine_entropy_H0_a1_a2', 'cosine_entropy_H0_a2', 'cosine_entropy_H1_a1', 'cosine_entropy_H1_a1_a2', 'cosine_entropy_H1_a2', 'cosine_wasserstein_A1_A2', 'cosine_wasserstein_a1_a2', 'euclidean_entropy_H0_a1', 'euclidean_entropy_H0_a2', 'euclidean_entropy_H1_a1', 'euclidean_entropy_H1_a1_a2', 'euclidean_entropy_H1_a2', 'h0_max_lifetime_a1_a2', 'h0_max_lifetime_a2', 'h1_count_a1', 'h1_count_a1_a2', 'h1_max_lifetime_a1', 'h1_max_lifetime_a1_a2', 'manhattan_bottleneck_A1_A2', 'Canberra', 'Chebyshev', 'Euclidean', 'ExecutionTime', 'NESum_A1', 'NESum_a1', 'RankMe_A2', 'RankMe_a2', 'SelfCluster_a1', 'SelfCluster_a2', 'alpha_ReQ_A2', 'cosine_bottleneck_a1_a2', 'cosine_entropy_H0_A1', 'cosine_entropy_H0_a1', 'cosine_entropy_H0_a1_a2', 'cosine_entropy_H0_a2', 'cosine_entropy_H1_a1', 'cosine_entropy_H1_a1_a2', 'cosine_entropy_H1_a2', 'cosine_wasserstein_A1_A2', 'cosine_wasserstein_a1_a2', 'euclidean_entropy_H0_a1', 'euclidean_entropy_H0_a2', 'euclidean_entropy_H1_a1', 'euclidean_entropy_H1_a1_a2', 'euclidean_entropy_H1_a2', 'h0_max_lifetime_a1_a2', 'h0_max_lifetime_a2', 'h1_count_a1', 'h1_count_a1_a2', 'h1_max_lifetime_a1', 'h1_max_lifetime_a1_a2', 'manhattan_bottleneck_A1_A2', 'Canberra', 'Chebyshev', 'Euclidean', 'ExecutionTime', 'NESum_A1', 'NESum_a1', 'RankMe_A2', 'RankMe_a2', 'SelfCluster_a1', 'SelfCluster_a2', 'alpha_ReQ_A2', 'cosine_bottleneck_a1_a2', 'cosine_entropy_H0_A1', 'cosine_entropy_H0_a1', 'cosine_entropy_H0_a1_a2', 'cosine_entropy_H0_a2', 'cosine_entropy_H1_a1', 'cosine_entropy_H1_a1_a2', 'cosine_entropy_H1_a2', 'cosine_wasserstein_A1_A2', 'cosine_wasserstein_a1_a2', 'euclidean_entropy_H0_a1', 'euclidean_entropy_H0_a2', 'euclidean_entropy_H1_a1', 'euclidean_entropy_H1_a1_a2', 'euclidean_entropy_H1_a2', 'h0_max_lifetime_a1_a2', 'h0_max_lifetime_a2', 'h1_count_a1', 'h1_count_a1_a2', 'h1_max_lifetime_a1', 'h1_max_lifetime_a1_a2', 'manhattan_bottleneck_A1_A2', 'Canberra', 'Chebyshev', 'Euclidean', 'ExecutionTime', 'NESum_A1', 'NESum_a1', 'RankMe_A2', 'RankMe_a2', 'SelfCluster_a1', 'SelfCluster_a2', 'alpha_ReQ_A2', 'cosine_bottleneck_a1_a2', 'cosine_entropy_H0_A1', 'cosine_entropy_H0_a1', 'cosine_entropy_H0_a1_a2', 'cosine_entropy_H0_a2', 'cosine_entropy_H1_a1', 'cosine_entropy_H1_a1_a2', 'cosine_entropy_H1_a2', 'cosine_wasserstein_A1_A2', 'cosine_wasserstein_a1_a2', 'euclidean_entropy_H0_a1', 'euclidean_entropy_H0_a2', 'euclidean_entropy_H1_a1', 'euclidean_entropy_H1_a1_a2', 'euclidean_entropy_H1_a2', 'h0_max_lifetime_a1_a2', 'h0_max_lifetime_a2', 'h1_count_a1', 'h1_count_a1_a2', 'h1_max_lifetime_a1', 'h1_max_lifetime_a1_a2', 'manhattan_bottleneck_A1_A2', 'Canberra', 'Chebyshev', 'Euclidean', 'ExecutionTime', 'NESum_A1', 'NESum_a1', 'RankMe_A2', 'RankMe_a2', 'SelfCluster_a1', 'SelfCluster_a2', 'alpha_ReQ_A2', 'cosine_bottleneck_a1_a2', 'cosine_entropy_H0_A1', 'cosine_entropy_H0_a1', 'cosine_entropy_H0_a1_a2', 'cosine_entropy_H0_a2', 'cosine_entropy_H1_a1', 'cosine_entropy_H1_a1_a2', 'cosine_entropy_H1_a2', 'cosine_wasserstein_A1_A2', 'cosine_wasserstein_a1_a2', 'euclidean_entropy_H0_a1', 'euclidean_entropy_H0_a2', 'euclidean_entropy_H1_a1', 'euclidean_entropy_H1_a1_a2', 'euclidean_entropy_H1_a2', 'h0_max_lifetime_a1_a2', 'h0_max_lifetime_a2', 'h1_count_a1', 'h1_count_a1_a2', 'h1_max_lifetime_a1', 'h1_max_lifetime_a1_a2', 'manhattan_bottleneck_A1_A2']\n"
     ]
    }
   ],
   "source": [
    "\n",
    "selected_features_ss=[]\n",
    "for i in range(1,10,1):\n",
    "    file_path = f\"./ss/metriques_sorties_exec{i}.txt\"\n",
    "\n",
    "\n",
    "    with open(file_path, \"r\", encoding=\"utf-8\") as f:\n",
    "        selected_features = [line.strip() for line in f if line.strip()]\n",
    "        \n",
    "    selected_features_ss+=selected_features\n",
    "\n",
    "    print(\"Selected Variables  ({}):\".format(len(set(selected_features_ss))))\n",
    "    print(selected_features_ss)"
   ]
  },
  {
   "cell_type": "code",
   "execution_count": 69,
   "id": "7fc6e1c4",
   "metadata": {},
   "outputs": [
    {
     "name": "stdout",
     "output_type": "stream",
     "text": [
      "Selected Variables(36):\n",
      "['Canberra', 'Chebyshev', 'Euclidean', 'NESum_A1', 'NESum_a1', 'NESum_a2', 'RankMe_A1', 'RankMe_a1', 'RankMe_a2', 'SelfCluster_A2', 'SelfCluster_a1', 'SelfCluster_a2', 'alpha_ReQ_A2', 'cosine_bottleneck_a1_a2', 'cosine_entropy_H0_a1', 'cosine_entropy_H0_a1_a2', 'cosine_entropy_H0_a2', 'cosine_entropy_H1_A1', 'cosine_entropy_H1_a1_a2', 'euclidean_bottleneck_a1_a2', 'euclidean_entropy_H0_A1', 'euclidean_entropy_H0_a1', 'euclidean_entropy_H0_a1_a2', 'euclidean_entropy_H1_A1', 'euclidean_entropy_H1_a1_a2', 'euclidean_entropy_H1_a2', 'euclidean_wasserstein_a1_a2', 'h0_max_lifetime_A1', 'h0_max_lifetime_A2', 'h0_max_lifetime_a1_a2', 'h0_max_lifetime_a2', 'h1_count_a1', 'h1_max_lifetime_a1', 'h1_max_lifetime_a1_a2', 'h1_max_lifetime_a2', 'manhattan_bottleneck_A1_A2']\n",
      "Selected Variables(36):\n",
      "['Canberra', 'Chebyshev', 'Euclidean', 'NESum_A1', 'NESum_a1', 'NESum_a2', 'RankMe_A1', 'RankMe_a1', 'RankMe_a2', 'SelfCluster_A2', 'SelfCluster_a1', 'SelfCluster_a2', 'alpha_ReQ_A2', 'cosine_bottleneck_a1_a2', 'cosine_entropy_H0_a1', 'cosine_entropy_H0_a1_a2', 'cosine_entropy_H0_a2', 'cosine_entropy_H1_A1', 'cosine_entropy_H1_a1_a2', 'euclidean_bottleneck_a1_a2', 'euclidean_entropy_H0_A1', 'euclidean_entropy_H0_a1', 'euclidean_entropy_H0_a1_a2', 'euclidean_entropy_H1_A1', 'euclidean_entropy_H1_a1_a2', 'euclidean_entropy_H1_a2', 'euclidean_wasserstein_a1_a2', 'h0_max_lifetime_A1', 'h0_max_lifetime_A2', 'h0_max_lifetime_a1_a2', 'h0_max_lifetime_a2', 'h1_count_a1', 'h1_max_lifetime_a1', 'h1_max_lifetime_a1_a2', 'h1_max_lifetime_a2', 'manhattan_bottleneck_A1_A2', 'Canberra', 'Chebyshev', 'Euclidean', 'NESum_A1', 'NESum_a1', 'NESum_a2', 'RankMe_A1', 'RankMe_a1', 'RankMe_a2', 'SelfCluster_A2', 'SelfCluster_a1', 'SelfCluster_a2', 'alpha_ReQ_A2', 'cosine_bottleneck_a1_a2', 'cosine_entropy_H0_a1', 'cosine_entropy_H0_a1_a2', 'cosine_entropy_H0_a2', 'cosine_entropy_H1_A1', 'cosine_entropy_H1_a1_a2', 'euclidean_bottleneck_a1_a2', 'euclidean_entropy_H0_A1', 'euclidean_entropy_H0_a1', 'euclidean_entropy_H0_a1_a2', 'euclidean_entropy_H1_A1', 'euclidean_entropy_H1_a1_a2', 'euclidean_entropy_H1_a2', 'euclidean_wasserstein_a1_a2', 'h0_max_lifetime_A1', 'h0_max_lifetime_A2', 'h0_max_lifetime_a1_a2', 'h0_max_lifetime_a2', 'h1_count_a1', 'h1_max_lifetime_a1', 'h1_max_lifetime_a1_a2', 'h1_max_lifetime_a2', 'manhattan_bottleneck_A1_A2']\n",
      "Selected Variables(36):\n",
      "['Canberra', 'Chebyshev', 'Euclidean', 'NESum_A1', 'NESum_a1', 'NESum_a2', 'RankMe_A1', 'RankMe_a1', 'RankMe_a2', 'SelfCluster_A2', 'SelfCluster_a1', 'SelfCluster_a2', 'alpha_ReQ_A2', 'cosine_bottleneck_a1_a2', 'cosine_entropy_H0_a1', 'cosine_entropy_H0_a1_a2', 'cosine_entropy_H0_a2', 'cosine_entropy_H1_A1', 'cosine_entropy_H1_a1_a2', 'euclidean_bottleneck_a1_a2', 'euclidean_entropy_H0_A1', 'euclidean_entropy_H0_a1', 'euclidean_entropy_H0_a1_a2', 'euclidean_entropy_H1_A1', 'euclidean_entropy_H1_a1_a2', 'euclidean_entropy_H1_a2', 'euclidean_wasserstein_a1_a2', 'h0_max_lifetime_A1', 'h0_max_lifetime_A2', 'h0_max_lifetime_a1_a2', 'h0_max_lifetime_a2', 'h1_count_a1', 'h1_max_lifetime_a1', 'h1_max_lifetime_a1_a2', 'h1_max_lifetime_a2', 'manhattan_bottleneck_A1_A2', 'Canberra', 'Chebyshev', 'Euclidean', 'NESum_A1', 'NESum_a1', 'NESum_a2', 'RankMe_A1', 'RankMe_a1', 'RankMe_a2', 'SelfCluster_A2', 'SelfCluster_a1', 'SelfCluster_a2', 'alpha_ReQ_A2', 'cosine_bottleneck_a1_a2', 'cosine_entropy_H0_a1', 'cosine_entropy_H0_a1_a2', 'cosine_entropy_H0_a2', 'cosine_entropy_H1_A1', 'cosine_entropy_H1_a1_a2', 'euclidean_bottleneck_a1_a2', 'euclidean_entropy_H0_A1', 'euclidean_entropy_H0_a1', 'euclidean_entropy_H0_a1_a2', 'euclidean_entropy_H1_A1', 'euclidean_entropy_H1_a1_a2', 'euclidean_entropy_H1_a2', 'euclidean_wasserstein_a1_a2', 'h0_max_lifetime_A1', 'h0_max_lifetime_A2', 'h0_max_lifetime_a1_a2', 'h0_max_lifetime_a2', 'h1_count_a1', 'h1_max_lifetime_a1', 'h1_max_lifetime_a1_a2', 'h1_max_lifetime_a2', 'manhattan_bottleneck_A1_A2', 'Canberra', 'Chebyshev', 'Euclidean', 'NESum_A1', 'NESum_a1', 'NESum_a2', 'RankMe_A1', 'RankMe_a1', 'RankMe_a2', 'SelfCluster_A2', 'SelfCluster_a1', 'SelfCluster_a2', 'alpha_ReQ_A2', 'cosine_bottleneck_a1_a2', 'cosine_entropy_H0_a1', 'cosine_entropy_H0_a1_a2', 'cosine_entropy_H0_a2', 'cosine_entropy_H1_A1', 'cosine_entropy_H1_a1_a2', 'euclidean_bottleneck_a1_a2', 'euclidean_entropy_H0_A1', 'euclidean_entropy_H0_a1', 'euclidean_entropy_H0_a1_a2', 'euclidean_entropy_H1_A1', 'euclidean_entropy_H1_a1_a2', 'euclidean_entropy_H1_a2', 'euclidean_wasserstein_a1_a2', 'h0_max_lifetime_A1', 'h0_max_lifetime_A2', 'h0_max_lifetime_a1_a2', 'h0_max_lifetime_a2', 'h1_count_a1', 'h1_max_lifetime_a1', 'h1_max_lifetime_a1_a2', 'h1_max_lifetime_a2', 'manhattan_bottleneck_A1_A2']\n",
      "Selected Variables(36):\n",
      "['Canberra', 'Chebyshev', 'Euclidean', 'NESum_A1', 'NESum_a1', 'NESum_a2', 'RankMe_A1', 'RankMe_a1', 'RankMe_a2', 'SelfCluster_A2', 'SelfCluster_a1', 'SelfCluster_a2', 'alpha_ReQ_A2', 'cosine_bottleneck_a1_a2', 'cosine_entropy_H0_a1', 'cosine_entropy_H0_a1_a2', 'cosine_entropy_H0_a2', 'cosine_entropy_H1_A1', 'cosine_entropy_H1_a1_a2', 'euclidean_bottleneck_a1_a2', 'euclidean_entropy_H0_A1', 'euclidean_entropy_H0_a1', 'euclidean_entropy_H0_a1_a2', 'euclidean_entropy_H1_A1', 'euclidean_entropy_H1_a1_a2', 'euclidean_entropy_H1_a2', 'euclidean_wasserstein_a1_a2', 'h0_max_lifetime_A1', 'h0_max_lifetime_A2', 'h0_max_lifetime_a1_a2', 'h0_max_lifetime_a2', 'h1_count_a1', 'h1_max_lifetime_a1', 'h1_max_lifetime_a1_a2', 'h1_max_lifetime_a2', 'manhattan_bottleneck_A1_A2', 'Canberra', 'Chebyshev', 'Euclidean', 'NESum_A1', 'NESum_a1', 'NESum_a2', 'RankMe_A1', 'RankMe_a1', 'RankMe_a2', 'SelfCluster_A2', 'SelfCluster_a1', 'SelfCluster_a2', 'alpha_ReQ_A2', 'cosine_bottleneck_a1_a2', 'cosine_entropy_H0_a1', 'cosine_entropy_H0_a1_a2', 'cosine_entropy_H0_a2', 'cosine_entropy_H1_A1', 'cosine_entropy_H1_a1_a2', 'euclidean_bottleneck_a1_a2', 'euclidean_entropy_H0_A1', 'euclidean_entropy_H0_a1', 'euclidean_entropy_H0_a1_a2', 'euclidean_entropy_H1_A1', 'euclidean_entropy_H1_a1_a2', 'euclidean_entropy_H1_a2', 'euclidean_wasserstein_a1_a2', 'h0_max_lifetime_A1', 'h0_max_lifetime_A2', 'h0_max_lifetime_a1_a2', 'h0_max_lifetime_a2', 'h1_count_a1', 'h1_max_lifetime_a1', 'h1_max_lifetime_a1_a2', 'h1_max_lifetime_a2', 'manhattan_bottleneck_A1_A2', 'Canberra', 'Chebyshev', 'Euclidean', 'NESum_A1', 'NESum_a1', 'NESum_a2', 'RankMe_A1', 'RankMe_a1', 'RankMe_a2', 'SelfCluster_A2', 'SelfCluster_a1', 'SelfCluster_a2', 'alpha_ReQ_A2', 'cosine_bottleneck_a1_a2', 'cosine_entropy_H0_a1', 'cosine_entropy_H0_a1_a2', 'cosine_entropy_H0_a2', 'cosine_entropy_H1_A1', 'cosine_entropy_H1_a1_a2', 'euclidean_bottleneck_a1_a2', 'euclidean_entropy_H0_A1', 'euclidean_entropy_H0_a1', 'euclidean_entropy_H0_a1_a2', 'euclidean_entropy_H1_A1', 'euclidean_entropy_H1_a1_a2', 'euclidean_entropy_H1_a2', 'euclidean_wasserstein_a1_a2', 'h0_max_lifetime_A1', 'h0_max_lifetime_A2', 'h0_max_lifetime_a1_a2', 'h0_max_lifetime_a2', 'h1_count_a1', 'h1_max_lifetime_a1', 'h1_max_lifetime_a1_a2', 'h1_max_lifetime_a2', 'manhattan_bottleneck_A1_A2', 'Canberra', 'Chebyshev', 'Euclidean', 'NESum_A1', 'NESum_a1', 'NESum_a2', 'RankMe_A1', 'RankMe_a1', 'RankMe_a2', 'SelfCluster_A2', 'SelfCluster_a1', 'SelfCluster_a2', 'alpha_ReQ_A2', 'cosine_bottleneck_a1_a2', 'cosine_entropy_H0_a1', 'cosine_entropy_H0_a1_a2', 'cosine_entropy_H0_a2', 'cosine_entropy_H1_A1', 'cosine_entropy_H1_a1_a2', 'euclidean_bottleneck_a1_a2', 'euclidean_entropy_H0_A1', 'euclidean_entropy_H0_a1', 'euclidean_entropy_H0_a1_a2', 'euclidean_entropy_H1_A1', 'euclidean_entropy_H1_a1_a2', 'euclidean_entropy_H1_a2', 'euclidean_wasserstein_a1_a2', 'h0_max_lifetime_A1', 'h0_max_lifetime_A2', 'h0_max_lifetime_a1_a2', 'h0_max_lifetime_a2', 'h1_count_a1', 'h1_max_lifetime_a1', 'h1_max_lifetime_a1_a2', 'h1_max_lifetime_a2', 'manhattan_bottleneck_A1_A2']\n",
      "Selected Variables(36):\n",
      "['Canberra', 'Chebyshev', 'Euclidean', 'NESum_A1', 'NESum_a1', 'NESum_a2', 'RankMe_A1', 'RankMe_a1', 'RankMe_a2', 'SelfCluster_A2', 'SelfCluster_a1', 'SelfCluster_a2', 'alpha_ReQ_A2', 'cosine_bottleneck_a1_a2', 'cosine_entropy_H0_a1', 'cosine_entropy_H0_a1_a2', 'cosine_entropy_H0_a2', 'cosine_entropy_H1_A1', 'cosine_entropy_H1_a1_a2', 'euclidean_bottleneck_a1_a2', 'euclidean_entropy_H0_A1', 'euclidean_entropy_H0_a1', 'euclidean_entropy_H0_a1_a2', 'euclidean_entropy_H1_A1', 'euclidean_entropy_H1_a1_a2', 'euclidean_entropy_H1_a2', 'euclidean_wasserstein_a1_a2', 'h0_max_lifetime_A1', 'h0_max_lifetime_A2', 'h0_max_lifetime_a1_a2', 'h0_max_lifetime_a2', 'h1_count_a1', 'h1_max_lifetime_a1', 'h1_max_lifetime_a1_a2', 'h1_max_lifetime_a2', 'manhattan_bottleneck_A1_A2', 'Canberra', 'Chebyshev', 'Euclidean', 'NESum_A1', 'NESum_a1', 'NESum_a2', 'RankMe_A1', 'RankMe_a1', 'RankMe_a2', 'SelfCluster_A2', 'SelfCluster_a1', 'SelfCluster_a2', 'alpha_ReQ_A2', 'cosine_bottleneck_a1_a2', 'cosine_entropy_H0_a1', 'cosine_entropy_H0_a1_a2', 'cosine_entropy_H0_a2', 'cosine_entropy_H1_A1', 'cosine_entropy_H1_a1_a2', 'euclidean_bottleneck_a1_a2', 'euclidean_entropy_H0_A1', 'euclidean_entropy_H0_a1', 'euclidean_entropy_H0_a1_a2', 'euclidean_entropy_H1_A1', 'euclidean_entropy_H1_a1_a2', 'euclidean_entropy_H1_a2', 'euclidean_wasserstein_a1_a2', 'h0_max_lifetime_A1', 'h0_max_lifetime_A2', 'h0_max_lifetime_a1_a2', 'h0_max_lifetime_a2', 'h1_count_a1', 'h1_max_lifetime_a1', 'h1_max_lifetime_a1_a2', 'h1_max_lifetime_a2', 'manhattan_bottleneck_A1_A2', 'Canberra', 'Chebyshev', 'Euclidean', 'NESum_A1', 'NESum_a1', 'NESum_a2', 'RankMe_A1', 'RankMe_a1', 'RankMe_a2', 'SelfCluster_A2', 'SelfCluster_a1', 'SelfCluster_a2', 'alpha_ReQ_A2', 'cosine_bottleneck_a1_a2', 'cosine_entropy_H0_a1', 'cosine_entropy_H0_a1_a2', 'cosine_entropy_H0_a2', 'cosine_entropy_H1_A1', 'cosine_entropy_H1_a1_a2', 'euclidean_bottleneck_a1_a2', 'euclidean_entropy_H0_A1', 'euclidean_entropy_H0_a1', 'euclidean_entropy_H0_a1_a2', 'euclidean_entropy_H1_A1', 'euclidean_entropy_H1_a1_a2', 'euclidean_entropy_H1_a2', 'euclidean_wasserstein_a1_a2', 'h0_max_lifetime_A1', 'h0_max_lifetime_A2', 'h0_max_lifetime_a1_a2', 'h0_max_lifetime_a2', 'h1_count_a1', 'h1_max_lifetime_a1', 'h1_max_lifetime_a1_a2', 'h1_max_lifetime_a2', 'manhattan_bottleneck_A1_A2', 'Canberra', 'Chebyshev', 'Euclidean', 'NESum_A1', 'NESum_a1', 'NESum_a2', 'RankMe_A1', 'RankMe_a1', 'RankMe_a2', 'SelfCluster_A2', 'SelfCluster_a1', 'SelfCluster_a2', 'alpha_ReQ_A2', 'cosine_bottleneck_a1_a2', 'cosine_entropy_H0_a1', 'cosine_entropy_H0_a1_a2', 'cosine_entropy_H0_a2', 'cosine_entropy_H1_A1', 'cosine_entropy_H1_a1_a2', 'euclidean_bottleneck_a1_a2', 'euclidean_entropy_H0_A1', 'euclidean_entropy_H0_a1', 'euclidean_entropy_H0_a1_a2', 'euclidean_entropy_H1_A1', 'euclidean_entropy_H1_a1_a2', 'euclidean_entropy_H1_a2', 'euclidean_wasserstein_a1_a2', 'h0_max_lifetime_A1', 'h0_max_lifetime_A2', 'h0_max_lifetime_a1_a2', 'h0_max_lifetime_a2', 'h1_count_a1', 'h1_max_lifetime_a1', 'h1_max_lifetime_a1_a2', 'h1_max_lifetime_a2', 'manhattan_bottleneck_A1_A2', 'Canberra', 'Chebyshev', 'Euclidean', 'NESum_A1', 'NESum_a1', 'NESum_a2', 'RankMe_A1', 'RankMe_a1', 'RankMe_a2', 'SelfCluster_A2', 'SelfCluster_a1', 'SelfCluster_a2', 'alpha_ReQ_A2', 'cosine_bottleneck_a1_a2', 'cosine_entropy_H0_a1', 'cosine_entropy_H0_a1_a2', 'cosine_entropy_H0_a2', 'cosine_entropy_H1_A1', 'cosine_entropy_H1_a1_a2', 'euclidean_bottleneck_a1_a2', 'euclidean_entropy_H0_A1', 'euclidean_entropy_H0_a1', 'euclidean_entropy_H0_a1_a2', 'euclidean_entropy_H1_A1', 'euclidean_entropy_H1_a1_a2', 'euclidean_entropy_H1_a2', 'euclidean_wasserstein_a1_a2', 'h0_max_lifetime_A1', 'h0_max_lifetime_A2', 'h0_max_lifetime_a1_a2', 'h0_max_lifetime_a2', 'h1_count_a1', 'h1_max_lifetime_a1', 'h1_max_lifetime_a1_a2', 'h1_max_lifetime_a2', 'manhattan_bottleneck_A1_A2']\n",
      "Selected Variables(36):\n",
      "['Canberra', 'Chebyshev', 'Euclidean', 'NESum_A1', 'NESum_a1', 'NESum_a2', 'RankMe_A1', 'RankMe_a1', 'RankMe_a2', 'SelfCluster_A2', 'SelfCluster_a1', 'SelfCluster_a2', 'alpha_ReQ_A2', 'cosine_bottleneck_a1_a2', 'cosine_entropy_H0_a1', 'cosine_entropy_H0_a1_a2', 'cosine_entropy_H0_a2', 'cosine_entropy_H1_A1', 'cosine_entropy_H1_a1_a2', 'euclidean_bottleneck_a1_a2', 'euclidean_entropy_H0_A1', 'euclidean_entropy_H0_a1', 'euclidean_entropy_H0_a1_a2', 'euclidean_entropy_H1_A1', 'euclidean_entropy_H1_a1_a2', 'euclidean_entropy_H1_a2', 'euclidean_wasserstein_a1_a2', 'h0_max_lifetime_A1', 'h0_max_lifetime_A2', 'h0_max_lifetime_a1_a2', 'h0_max_lifetime_a2', 'h1_count_a1', 'h1_max_lifetime_a1', 'h1_max_lifetime_a1_a2', 'h1_max_lifetime_a2', 'manhattan_bottleneck_A1_A2', 'Canberra', 'Chebyshev', 'Euclidean', 'NESum_A1', 'NESum_a1', 'NESum_a2', 'RankMe_A1', 'RankMe_a1', 'RankMe_a2', 'SelfCluster_A2', 'SelfCluster_a1', 'SelfCluster_a2', 'alpha_ReQ_A2', 'cosine_bottleneck_a1_a2', 'cosine_entropy_H0_a1', 'cosine_entropy_H0_a1_a2', 'cosine_entropy_H0_a2', 'cosine_entropy_H1_A1', 'cosine_entropy_H1_a1_a2', 'euclidean_bottleneck_a1_a2', 'euclidean_entropy_H0_A1', 'euclidean_entropy_H0_a1', 'euclidean_entropy_H0_a1_a2', 'euclidean_entropy_H1_A1', 'euclidean_entropy_H1_a1_a2', 'euclidean_entropy_H1_a2', 'euclidean_wasserstein_a1_a2', 'h0_max_lifetime_A1', 'h0_max_lifetime_A2', 'h0_max_lifetime_a1_a2', 'h0_max_lifetime_a2', 'h1_count_a1', 'h1_max_lifetime_a1', 'h1_max_lifetime_a1_a2', 'h1_max_lifetime_a2', 'manhattan_bottleneck_A1_A2', 'Canberra', 'Chebyshev', 'Euclidean', 'NESum_A1', 'NESum_a1', 'NESum_a2', 'RankMe_A1', 'RankMe_a1', 'RankMe_a2', 'SelfCluster_A2', 'SelfCluster_a1', 'SelfCluster_a2', 'alpha_ReQ_A2', 'cosine_bottleneck_a1_a2', 'cosine_entropy_H0_a1', 'cosine_entropy_H0_a1_a2', 'cosine_entropy_H0_a2', 'cosine_entropy_H1_A1', 'cosine_entropy_H1_a1_a2', 'euclidean_bottleneck_a1_a2', 'euclidean_entropy_H0_A1', 'euclidean_entropy_H0_a1', 'euclidean_entropy_H0_a1_a2', 'euclidean_entropy_H1_A1', 'euclidean_entropy_H1_a1_a2', 'euclidean_entropy_H1_a2', 'euclidean_wasserstein_a1_a2', 'h0_max_lifetime_A1', 'h0_max_lifetime_A2', 'h0_max_lifetime_a1_a2', 'h0_max_lifetime_a2', 'h1_count_a1', 'h1_max_lifetime_a1', 'h1_max_lifetime_a1_a2', 'h1_max_lifetime_a2', 'manhattan_bottleneck_A1_A2', 'Canberra', 'Chebyshev', 'Euclidean', 'NESum_A1', 'NESum_a1', 'NESum_a2', 'RankMe_A1', 'RankMe_a1', 'RankMe_a2', 'SelfCluster_A2', 'SelfCluster_a1', 'SelfCluster_a2', 'alpha_ReQ_A2', 'cosine_bottleneck_a1_a2', 'cosine_entropy_H0_a1', 'cosine_entropy_H0_a1_a2', 'cosine_entropy_H0_a2', 'cosine_entropy_H1_A1', 'cosine_entropy_H1_a1_a2', 'euclidean_bottleneck_a1_a2', 'euclidean_entropy_H0_A1', 'euclidean_entropy_H0_a1', 'euclidean_entropy_H0_a1_a2', 'euclidean_entropy_H1_A1', 'euclidean_entropy_H1_a1_a2', 'euclidean_entropy_H1_a2', 'euclidean_wasserstein_a1_a2', 'h0_max_lifetime_A1', 'h0_max_lifetime_A2', 'h0_max_lifetime_a1_a2', 'h0_max_lifetime_a2', 'h1_count_a1', 'h1_max_lifetime_a1', 'h1_max_lifetime_a1_a2', 'h1_max_lifetime_a2', 'manhattan_bottleneck_A1_A2', 'Canberra', 'Chebyshev', 'Euclidean', 'NESum_A1', 'NESum_a1', 'NESum_a2', 'RankMe_A1', 'RankMe_a1', 'RankMe_a2', 'SelfCluster_A2', 'SelfCluster_a1', 'SelfCluster_a2', 'alpha_ReQ_A2', 'cosine_bottleneck_a1_a2', 'cosine_entropy_H0_a1', 'cosine_entropy_H0_a1_a2', 'cosine_entropy_H0_a2', 'cosine_entropy_H1_A1', 'cosine_entropy_H1_a1_a2', 'euclidean_bottleneck_a1_a2', 'euclidean_entropy_H0_A1', 'euclidean_entropy_H0_a1', 'euclidean_entropy_H0_a1_a2', 'euclidean_entropy_H1_A1', 'euclidean_entropy_H1_a1_a2', 'euclidean_entropy_H1_a2', 'euclidean_wasserstein_a1_a2', 'h0_max_lifetime_A1', 'h0_max_lifetime_A2', 'h0_max_lifetime_a1_a2', 'h0_max_lifetime_a2', 'h1_count_a1', 'h1_max_lifetime_a1', 'h1_max_lifetime_a1_a2', 'h1_max_lifetime_a2', 'manhattan_bottleneck_A1_A2', 'Canberra', 'Chebyshev', 'Euclidean', 'NESum_A1', 'NESum_a1', 'NESum_a2', 'RankMe_A1', 'RankMe_a1', 'RankMe_a2', 'SelfCluster_A2', 'SelfCluster_a1', 'SelfCluster_a2', 'alpha_ReQ_A2', 'cosine_bottleneck_a1_a2', 'cosine_entropy_H0_a1', 'cosine_entropy_H0_a1_a2', 'cosine_entropy_H0_a2', 'cosine_entropy_H1_A1', 'cosine_entropy_H1_a1_a2', 'euclidean_bottleneck_a1_a2', 'euclidean_entropy_H0_A1', 'euclidean_entropy_H0_a1', 'euclidean_entropy_H0_a1_a2', 'euclidean_entropy_H1_A1', 'euclidean_entropy_H1_a1_a2', 'euclidean_entropy_H1_a2', 'euclidean_wasserstein_a1_a2', 'h0_max_lifetime_A1', 'h0_max_lifetime_A2', 'h0_max_lifetime_a1_a2', 'h0_max_lifetime_a2', 'h1_count_a1', 'h1_max_lifetime_a1', 'h1_max_lifetime_a1_a2', 'h1_max_lifetime_a2', 'manhattan_bottleneck_A1_A2']\n",
      "Selected Variables(36):\n",
      "['Canberra', 'Chebyshev', 'Euclidean', 'NESum_A1', 'NESum_a1', 'NESum_a2', 'RankMe_A1', 'RankMe_a1', 'RankMe_a2', 'SelfCluster_A2', 'SelfCluster_a1', 'SelfCluster_a2', 'alpha_ReQ_A2', 'cosine_bottleneck_a1_a2', 'cosine_entropy_H0_a1', 'cosine_entropy_H0_a1_a2', 'cosine_entropy_H0_a2', 'cosine_entropy_H1_A1', 'cosine_entropy_H1_a1_a2', 'euclidean_bottleneck_a1_a2', 'euclidean_entropy_H0_A1', 'euclidean_entropy_H0_a1', 'euclidean_entropy_H0_a1_a2', 'euclidean_entropy_H1_A1', 'euclidean_entropy_H1_a1_a2', 'euclidean_entropy_H1_a2', 'euclidean_wasserstein_a1_a2', 'h0_max_lifetime_A1', 'h0_max_lifetime_A2', 'h0_max_lifetime_a1_a2', 'h0_max_lifetime_a2', 'h1_count_a1', 'h1_max_lifetime_a1', 'h1_max_lifetime_a1_a2', 'h1_max_lifetime_a2', 'manhattan_bottleneck_A1_A2', 'Canberra', 'Chebyshev', 'Euclidean', 'NESum_A1', 'NESum_a1', 'NESum_a2', 'RankMe_A1', 'RankMe_a1', 'RankMe_a2', 'SelfCluster_A2', 'SelfCluster_a1', 'SelfCluster_a2', 'alpha_ReQ_A2', 'cosine_bottleneck_a1_a2', 'cosine_entropy_H0_a1', 'cosine_entropy_H0_a1_a2', 'cosine_entropy_H0_a2', 'cosine_entropy_H1_A1', 'cosine_entropy_H1_a1_a2', 'euclidean_bottleneck_a1_a2', 'euclidean_entropy_H0_A1', 'euclidean_entropy_H0_a1', 'euclidean_entropy_H0_a1_a2', 'euclidean_entropy_H1_A1', 'euclidean_entropy_H1_a1_a2', 'euclidean_entropy_H1_a2', 'euclidean_wasserstein_a1_a2', 'h0_max_lifetime_A1', 'h0_max_lifetime_A2', 'h0_max_lifetime_a1_a2', 'h0_max_lifetime_a2', 'h1_count_a1', 'h1_max_lifetime_a1', 'h1_max_lifetime_a1_a2', 'h1_max_lifetime_a2', 'manhattan_bottleneck_A1_A2', 'Canberra', 'Chebyshev', 'Euclidean', 'NESum_A1', 'NESum_a1', 'NESum_a2', 'RankMe_A1', 'RankMe_a1', 'RankMe_a2', 'SelfCluster_A2', 'SelfCluster_a1', 'SelfCluster_a2', 'alpha_ReQ_A2', 'cosine_bottleneck_a1_a2', 'cosine_entropy_H0_a1', 'cosine_entropy_H0_a1_a2', 'cosine_entropy_H0_a2', 'cosine_entropy_H1_A1', 'cosine_entropy_H1_a1_a2', 'euclidean_bottleneck_a1_a2', 'euclidean_entropy_H0_A1', 'euclidean_entropy_H0_a1', 'euclidean_entropy_H0_a1_a2', 'euclidean_entropy_H1_A1', 'euclidean_entropy_H1_a1_a2', 'euclidean_entropy_H1_a2', 'euclidean_wasserstein_a1_a2', 'h0_max_lifetime_A1', 'h0_max_lifetime_A2', 'h0_max_lifetime_a1_a2', 'h0_max_lifetime_a2', 'h1_count_a1', 'h1_max_lifetime_a1', 'h1_max_lifetime_a1_a2', 'h1_max_lifetime_a2', 'manhattan_bottleneck_A1_A2', 'Canberra', 'Chebyshev', 'Euclidean', 'NESum_A1', 'NESum_a1', 'NESum_a2', 'RankMe_A1', 'RankMe_a1', 'RankMe_a2', 'SelfCluster_A2', 'SelfCluster_a1', 'SelfCluster_a2', 'alpha_ReQ_A2', 'cosine_bottleneck_a1_a2', 'cosine_entropy_H0_a1', 'cosine_entropy_H0_a1_a2', 'cosine_entropy_H0_a2', 'cosine_entropy_H1_A1', 'cosine_entropy_H1_a1_a2', 'euclidean_bottleneck_a1_a2', 'euclidean_entropy_H0_A1', 'euclidean_entropy_H0_a1', 'euclidean_entropy_H0_a1_a2', 'euclidean_entropy_H1_A1', 'euclidean_entropy_H1_a1_a2', 'euclidean_entropy_H1_a2', 'euclidean_wasserstein_a1_a2', 'h0_max_lifetime_A1', 'h0_max_lifetime_A2', 'h0_max_lifetime_a1_a2', 'h0_max_lifetime_a2', 'h1_count_a1', 'h1_max_lifetime_a1', 'h1_max_lifetime_a1_a2', 'h1_max_lifetime_a2', 'manhattan_bottleneck_A1_A2', 'Canberra', 'Chebyshev', 'Euclidean', 'NESum_A1', 'NESum_a1', 'NESum_a2', 'RankMe_A1', 'RankMe_a1', 'RankMe_a2', 'SelfCluster_A2', 'SelfCluster_a1', 'SelfCluster_a2', 'alpha_ReQ_A2', 'cosine_bottleneck_a1_a2', 'cosine_entropy_H0_a1', 'cosine_entropy_H0_a1_a2', 'cosine_entropy_H0_a2', 'cosine_entropy_H1_A1', 'cosine_entropy_H1_a1_a2', 'euclidean_bottleneck_a1_a2', 'euclidean_entropy_H0_A1', 'euclidean_entropy_H0_a1', 'euclidean_entropy_H0_a1_a2', 'euclidean_entropy_H1_A1', 'euclidean_entropy_H1_a1_a2', 'euclidean_entropy_H1_a2', 'euclidean_wasserstein_a1_a2', 'h0_max_lifetime_A1', 'h0_max_lifetime_A2', 'h0_max_lifetime_a1_a2', 'h0_max_lifetime_a2', 'h1_count_a1', 'h1_max_lifetime_a1', 'h1_max_lifetime_a1_a2', 'h1_max_lifetime_a2', 'manhattan_bottleneck_A1_A2', 'Canberra', 'Chebyshev', 'Euclidean', 'NESum_A1', 'NESum_a1', 'NESum_a2', 'RankMe_A1', 'RankMe_a1', 'RankMe_a2', 'SelfCluster_A2', 'SelfCluster_a1', 'SelfCluster_a2', 'alpha_ReQ_A2', 'cosine_bottleneck_a1_a2', 'cosine_entropy_H0_a1', 'cosine_entropy_H0_a1_a2', 'cosine_entropy_H0_a2', 'cosine_entropy_H1_A1', 'cosine_entropy_H1_a1_a2', 'euclidean_bottleneck_a1_a2', 'euclidean_entropy_H0_A1', 'euclidean_entropy_H0_a1', 'euclidean_entropy_H0_a1_a2', 'euclidean_entropy_H1_A1', 'euclidean_entropy_H1_a1_a2', 'euclidean_entropy_H1_a2', 'euclidean_wasserstein_a1_a2', 'h0_max_lifetime_A1', 'h0_max_lifetime_A2', 'h0_max_lifetime_a1_a2', 'h0_max_lifetime_a2', 'h1_count_a1', 'h1_max_lifetime_a1', 'h1_max_lifetime_a1_a2', 'h1_max_lifetime_a2', 'manhattan_bottleneck_A1_A2', 'Canberra', 'Chebyshev', 'Euclidean', 'NESum_A1', 'NESum_a1', 'NESum_a2', 'RankMe_A1', 'RankMe_a1', 'RankMe_a2', 'SelfCluster_A2', 'SelfCluster_a1', 'SelfCluster_a2', 'alpha_ReQ_A2', 'cosine_bottleneck_a1_a2', 'cosine_entropy_H0_a1', 'cosine_entropy_H0_a1_a2', 'cosine_entropy_H0_a2', 'cosine_entropy_H1_A1', 'cosine_entropy_H1_a1_a2', 'euclidean_bottleneck_a1_a2', 'euclidean_entropy_H0_A1', 'euclidean_entropy_H0_a1', 'euclidean_entropy_H0_a1_a2', 'euclidean_entropy_H1_A1', 'euclidean_entropy_H1_a1_a2', 'euclidean_entropy_H1_a2', 'euclidean_wasserstein_a1_a2', 'h0_max_lifetime_A1', 'h0_max_lifetime_A2', 'h0_max_lifetime_a1_a2', 'h0_max_lifetime_a2', 'h1_count_a1', 'h1_max_lifetime_a1', 'h1_max_lifetime_a1_a2', 'h1_max_lifetime_a2', 'manhattan_bottleneck_A1_A2']\n",
      "Selected Variables(36):\n",
      "['Canberra', 'Chebyshev', 'Euclidean', 'NESum_A1', 'NESum_a1', 'NESum_a2', 'RankMe_A1', 'RankMe_a1', 'RankMe_a2', 'SelfCluster_A2', 'SelfCluster_a1', 'SelfCluster_a2', 'alpha_ReQ_A2', 'cosine_bottleneck_a1_a2', 'cosine_entropy_H0_a1', 'cosine_entropy_H0_a1_a2', 'cosine_entropy_H0_a2', 'cosine_entropy_H1_A1', 'cosine_entropy_H1_a1_a2', 'euclidean_bottleneck_a1_a2', 'euclidean_entropy_H0_A1', 'euclidean_entropy_H0_a1', 'euclidean_entropy_H0_a1_a2', 'euclidean_entropy_H1_A1', 'euclidean_entropy_H1_a1_a2', 'euclidean_entropy_H1_a2', 'euclidean_wasserstein_a1_a2', 'h0_max_lifetime_A1', 'h0_max_lifetime_A2', 'h0_max_lifetime_a1_a2', 'h0_max_lifetime_a2', 'h1_count_a1', 'h1_max_lifetime_a1', 'h1_max_lifetime_a1_a2', 'h1_max_lifetime_a2', 'manhattan_bottleneck_A1_A2', 'Canberra', 'Chebyshev', 'Euclidean', 'NESum_A1', 'NESum_a1', 'NESum_a2', 'RankMe_A1', 'RankMe_a1', 'RankMe_a2', 'SelfCluster_A2', 'SelfCluster_a1', 'SelfCluster_a2', 'alpha_ReQ_A2', 'cosine_bottleneck_a1_a2', 'cosine_entropy_H0_a1', 'cosine_entropy_H0_a1_a2', 'cosine_entropy_H0_a2', 'cosine_entropy_H1_A1', 'cosine_entropy_H1_a1_a2', 'euclidean_bottleneck_a1_a2', 'euclidean_entropy_H0_A1', 'euclidean_entropy_H0_a1', 'euclidean_entropy_H0_a1_a2', 'euclidean_entropy_H1_A1', 'euclidean_entropy_H1_a1_a2', 'euclidean_entropy_H1_a2', 'euclidean_wasserstein_a1_a2', 'h0_max_lifetime_A1', 'h0_max_lifetime_A2', 'h0_max_lifetime_a1_a2', 'h0_max_lifetime_a2', 'h1_count_a1', 'h1_max_lifetime_a1', 'h1_max_lifetime_a1_a2', 'h1_max_lifetime_a2', 'manhattan_bottleneck_A1_A2', 'Canberra', 'Chebyshev', 'Euclidean', 'NESum_A1', 'NESum_a1', 'NESum_a2', 'RankMe_A1', 'RankMe_a1', 'RankMe_a2', 'SelfCluster_A2', 'SelfCluster_a1', 'SelfCluster_a2', 'alpha_ReQ_A2', 'cosine_bottleneck_a1_a2', 'cosine_entropy_H0_a1', 'cosine_entropy_H0_a1_a2', 'cosine_entropy_H0_a2', 'cosine_entropy_H1_A1', 'cosine_entropy_H1_a1_a2', 'euclidean_bottleneck_a1_a2', 'euclidean_entropy_H0_A1', 'euclidean_entropy_H0_a1', 'euclidean_entropy_H0_a1_a2', 'euclidean_entropy_H1_A1', 'euclidean_entropy_H1_a1_a2', 'euclidean_entropy_H1_a2', 'euclidean_wasserstein_a1_a2', 'h0_max_lifetime_A1', 'h0_max_lifetime_A2', 'h0_max_lifetime_a1_a2', 'h0_max_lifetime_a2', 'h1_count_a1', 'h1_max_lifetime_a1', 'h1_max_lifetime_a1_a2', 'h1_max_lifetime_a2', 'manhattan_bottleneck_A1_A2', 'Canberra', 'Chebyshev', 'Euclidean', 'NESum_A1', 'NESum_a1', 'NESum_a2', 'RankMe_A1', 'RankMe_a1', 'RankMe_a2', 'SelfCluster_A2', 'SelfCluster_a1', 'SelfCluster_a2', 'alpha_ReQ_A2', 'cosine_bottleneck_a1_a2', 'cosine_entropy_H0_a1', 'cosine_entropy_H0_a1_a2', 'cosine_entropy_H0_a2', 'cosine_entropy_H1_A1', 'cosine_entropy_H1_a1_a2', 'euclidean_bottleneck_a1_a2', 'euclidean_entropy_H0_A1', 'euclidean_entropy_H0_a1', 'euclidean_entropy_H0_a1_a2', 'euclidean_entropy_H1_A1', 'euclidean_entropy_H1_a1_a2', 'euclidean_entropy_H1_a2', 'euclidean_wasserstein_a1_a2', 'h0_max_lifetime_A1', 'h0_max_lifetime_A2', 'h0_max_lifetime_a1_a2', 'h0_max_lifetime_a2', 'h1_count_a1', 'h1_max_lifetime_a1', 'h1_max_lifetime_a1_a2', 'h1_max_lifetime_a2', 'manhattan_bottleneck_A1_A2', 'Canberra', 'Chebyshev', 'Euclidean', 'NESum_A1', 'NESum_a1', 'NESum_a2', 'RankMe_A1', 'RankMe_a1', 'RankMe_a2', 'SelfCluster_A2', 'SelfCluster_a1', 'SelfCluster_a2', 'alpha_ReQ_A2', 'cosine_bottleneck_a1_a2', 'cosine_entropy_H0_a1', 'cosine_entropy_H0_a1_a2', 'cosine_entropy_H0_a2', 'cosine_entropy_H1_A1', 'cosine_entropy_H1_a1_a2', 'euclidean_bottleneck_a1_a2', 'euclidean_entropy_H0_A1', 'euclidean_entropy_H0_a1', 'euclidean_entropy_H0_a1_a2', 'euclidean_entropy_H1_A1', 'euclidean_entropy_H1_a1_a2', 'euclidean_entropy_H1_a2', 'euclidean_wasserstein_a1_a2', 'h0_max_lifetime_A1', 'h0_max_lifetime_A2', 'h0_max_lifetime_a1_a2', 'h0_max_lifetime_a2', 'h1_count_a1', 'h1_max_lifetime_a1', 'h1_max_lifetime_a1_a2', 'h1_max_lifetime_a2', 'manhattan_bottleneck_A1_A2', 'Canberra', 'Chebyshev', 'Euclidean', 'NESum_A1', 'NESum_a1', 'NESum_a2', 'RankMe_A1', 'RankMe_a1', 'RankMe_a2', 'SelfCluster_A2', 'SelfCluster_a1', 'SelfCluster_a2', 'alpha_ReQ_A2', 'cosine_bottleneck_a1_a2', 'cosine_entropy_H0_a1', 'cosine_entropy_H0_a1_a2', 'cosine_entropy_H0_a2', 'cosine_entropy_H1_A1', 'cosine_entropy_H1_a1_a2', 'euclidean_bottleneck_a1_a2', 'euclidean_entropy_H0_A1', 'euclidean_entropy_H0_a1', 'euclidean_entropy_H0_a1_a2', 'euclidean_entropy_H1_A1', 'euclidean_entropy_H1_a1_a2', 'euclidean_entropy_H1_a2', 'euclidean_wasserstein_a1_a2', 'h0_max_lifetime_A1', 'h0_max_lifetime_A2', 'h0_max_lifetime_a1_a2', 'h0_max_lifetime_a2', 'h1_count_a1', 'h1_max_lifetime_a1', 'h1_max_lifetime_a1_a2', 'h1_max_lifetime_a2', 'manhattan_bottleneck_A1_A2', 'Canberra', 'Chebyshev', 'Euclidean', 'NESum_A1', 'NESum_a1', 'NESum_a2', 'RankMe_A1', 'RankMe_a1', 'RankMe_a2', 'SelfCluster_A2', 'SelfCluster_a1', 'SelfCluster_a2', 'alpha_ReQ_A2', 'cosine_bottleneck_a1_a2', 'cosine_entropy_H0_a1', 'cosine_entropy_H0_a1_a2', 'cosine_entropy_H0_a2', 'cosine_entropy_H1_A1', 'cosine_entropy_H1_a1_a2', 'euclidean_bottleneck_a1_a2', 'euclidean_entropy_H0_A1', 'euclidean_entropy_H0_a1', 'euclidean_entropy_H0_a1_a2', 'euclidean_entropy_H1_A1', 'euclidean_entropy_H1_a1_a2', 'euclidean_entropy_H1_a2', 'euclidean_wasserstein_a1_a2', 'h0_max_lifetime_A1', 'h0_max_lifetime_A2', 'h0_max_lifetime_a1_a2', 'h0_max_lifetime_a2', 'h1_count_a1', 'h1_max_lifetime_a1', 'h1_max_lifetime_a1_a2', 'h1_max_lifetime_a2', 'manhattan_bottleneck_A1_A2', 'Canberra', 'Chebyshev', 'Euclidean', 'NESum_A1', 'NESum_a1', 'NESum_a2', 'RankMe_A1', 'RankMe_a1', 'RankMe_a2', 'SelfCluster_A2', 'SelfCluster_a1', 'SelfCluster_a2', 'alpha_ReQ_A2', 'cosine_bottleneck_a1_a2', 'cosine_entropy_H0_a1', 'cosine_entropy_H0_a1_a2', 'cosine_entropy_H0_a2', 'cosine_entropy_H1_A1', 'cosine_entropy_H1_a1_a2', 'euclidean_bottleneck_a1_a2', 'euclidean_entropy_H0_A1', 'euclidean_entropy_H0_a1', 'euclidean_entropy_H0_a1_a2', 'euclidean_entropy_H1_A1', 'euclidean_entropy_H1_a1_a2', 'euclidean_entropy_H1_a2', 'euclidean_wasserstein_a1_a2', 'h0_max_lifetime_A1', 'h0_max_lifetime_A2', 'h0_max_lifetime_a1_a2', 'h0_max_lifetime_a2', 'h1_count_a1', 'h1_max_lifetime_a1', 'h1_max_lifetime_a1_a2', 'h1_max_lifetime_a2', 'manhattan_bottleneck_A1_A2']\n",
      "Selected Variables(36):\n",
      "['Canberra', 'Chebyshev', 'Euclidean', 'NESum_A1', 'NESum_a1', 'NESum_a2', 'RankMe_A1', 'RankMe_a1', 'RankMe_a2', 'SelfCluster_A2', 'SelfCluster_a1', 'SelfCluster_a2', 'alpha_ReQ_A2', 'cosine_bottleneck_a1_a2', 'cosine_entropy_H0_a1', 'cosine_entropy_H0_a1_a2', 'cosine_entropy_H0_a2', 'cosine_entropy_H1_A1', 'cosine_entropy_H1_a1_a2', 'euclidean_bottleneck_a1_a2', 'euclidean_entropy_H0_A1', 'euclidean_entropy_H0_a1', 'euclidean_entropy_H0_a1_a2', 'euclidean_entropy_H1_A1', 'euclidean_entropy_H1_a1_a2', 'euclidean_entropy_H1_a2', 'euclidean_wasserstein_a1_a2', 'h0_max_lifetime_A1', 'h0_max_lifetime_A2', 'h0_max_lifetime_a1_a2', 'h0_max_lifetime_a2', 'h1_count_a1', 'h1_max_lifetime_a1', 'h1_max_lifetime_a1_a2', 'h1_max_lifetime_a2', 'manhattan_bottleneck_A1_A2', 'Canberra', 'Chebyshev', 'Euclidean', 'NESum_A1', 'NESum_a1', 'NESum_a2', 'RankMe_A1', 'RankMe_a1', 'RankMe_a2', 'SelfCluster_A2', 'SelfCluster_a1', 'SelfCluster_a2', 'alpha_ReQ_A2', 'cosine_bottleneck_a1_a2', 'cosine_entropy_H0_a1', 'cosine_entropy_H0_a1_a2', 'cosine_entropy_H0_a2', 'cosine_entropy_H1_A1', 'cosine_entropy_H1_a1_a2', 'euclidean_bottleneck_a1_a2', 'euclidean_entropy_H0_A1', 'euclidean_entropy_H0_a1', 'euclidean_entropy_H0_a1_a2', 'euclidean_entropy_H1_A1', 'euclidean_entropy_H1_a1_a2', 'euclidean_entropy_H1_a2', 'euclidean_wasserstein_a1_a2', 'h0_max_lifetime_A1', 'h0_max_lifetime_A2', 'h0_max_lifetime_a1_a2', 'h0_max_lifetime_a2', 'h1_count_a1', 'h1_max_lifetime_a1', 'h1_max_lifetime_a1_a2', 'h1_max_lifetime_a2', 'manhattan_bottleneck_A1_A2', 'Canberra', 'Chebyshev', 'Euclidean', 'NESum_A1', 'NESum_a1', 'NESum_a2', 'RankMe_A1', 'RankMe_a1', 'RankMe_a2', 'SelfCluster_A2', 'SelfCluster_a1', 'SelfCluster_a2', 'alpha_ReQ_A2', 'cosine_bottleneck_a1_a2', 'cosine_entropy_H0_a1', 'cosine_entropy_H0_a1_a2', 'cosine_entropy_H0_a2', 'cosine_entropy_H1_A1', 'cosine_entropy_H1_a1_a2', 'euclidean_bottleneck_a1_a2', 'euclidean_entropy_H0_A1', 'euclidean_entropy_H0_a1', 'euclidean_entropy_H0_a1_a2', 'euclidean_entropy_H1_A1', 'euclidean_entropy_H1_a1_a2', 'euclidean_entropy_H1_a2', 'euclidean_wasserstein_a1_a2', 'h0_max_lifetime_A1', 'h0_max_lifetime_A2', 'h0_max_lifetime_a1_a2', 'h0_max_lifetime_a2', 'h1_count_a1', 'h1_max_lifetime_a1', 'h1_max_lifetime_a1_a2', 'h1_max_lifetime_a2', 'manhattan_bottleneck_A1_A2', 'Canberra', 'Chebyshev', 'Euclidean', 'NESum_A1', 'NESum_a1', 'NESum_a2', 'RankMe_A1', 'RankMe_a1', 'RankMe_a2', 'SelfCluster_A2', 'SelfCluster_a1', 'SelfCluster_a2', 'alpha_ReQ_A2', 'cosine_bottleneck_a1_a2', 'cosine_entropy_H0_a1', 'cosine_entropy_H0_a1_a2', 'cosine_entropy_H0_a2', 'cosine_entropy_H1_A1', 'cosine_entropy_H1_a1_a2', 'euclidean_bottleneck_a1_a2', 'euclidean_entropy_H0_A1', 'euclidean_entropy_H0_a1', 'euclidean_entropy_H0_a1_a2', 'euclidean_entropy_H1_A1', 'euclidean_entropy_H1_a1_a2', 'euclidean_entropy_H1_a2', 'euclidean_wasserstein_a1_a2', 'h0_max_lifetime_A1', 'h0_max_lifetime_A2', 'h0_max_lifetime_a1_a2', 'h0_max_lifetime_a2', 'h1_count_a1', 'h1_max_lifetime_a1', 'h1_max_lifetime_a1_a2', 'h1_max_lifetime_a2', 'manhattan_bottleneck_A1_A2', 'Canberra', 'Chebyshev', 'Euclidean', 'NESum_A1', 'NESum_a1', 'NESum_a2', 'RankMe_A1', 'RankMe_a1', 'RankMe_a2', 'SelfCluster_A2', 'SelfCluster_a1', 'SelfCluster_a2', 'alpha_ReQ_A2', 'cosine_bottleneck_a1_a2', 'cosine_entropy_H0_a1', 'cosine_entropy_H0_a1_a2', 'cosine_entropy_H0_a2', 'cosine_entropy_H1_A1', 'cosine_entropy_H1_a1_a2', 'euclidean_bottleneck_a1_a2', 'euclidean_entropy_H0_A1', 'euclidean_entropy_H0_a1', 'euclidean_entropy_H0_a1_a2', 'euclidean_entropy_H1_A1', 'euclidean_entropy_H1_a1_a2', 'euclidean_entropy_H1_a2', 'euclidean_wasserstein_a1_a2', 'h0_max_lifetime_A1', 'h0_max_lifetime_A2', 'h0_max_lifetime_a1_a2', 'h0_max_lifetime_a2', 'h1_count_a1', 'h1_max_lifetime_a1', 'h1_max_lifetime_a1_a2', 'h1_max_lifetime_a2', 'manhattan_bottleneck_A1_A2', 'Canberra', 'Chebyshev', 'Euclidean', 'NESum_A1', 'NESum_a1', 'NESum_a2', 'RankMe_A1', 'RankMe_a1', 'RankMe_a2', 'SelfCluster_A2', 'SelfCluster_a1', 'SelfCluster_a2', 'alpha_ReQ_A2', 'cosine_bottleneck_a1_a2', 'cosine_entropy_H0_a1', 'cosine_entropy_H0_a1_a2', 'cosine_entropy_H0_a2', 'cosine_entropy_H1_A1', 'cosine_entropy_H1_a1_a2', 'euclidean_bottleneck_a1_a2', 'euclidean_entropy_H0_A1', 'euclidean_entropy_H0_a1', 'euclidean_entropy_H0_a1_a2', 'euclidean_entropy_H1_A1', 'euclidean_entropy_H1_a1_a2', 'euclidean_entropy_H1_a2', 'euclidean_wasserstein_a1_a2', 'h0_max_lifetime_A1', 'h0_max_lifetime_A2', 'h0_max_lifetime_a1_a2', 'h0_max_lifetime_a2', 'h1_count_a1', 'h1_max_lifetime_a1', 'h1_max_lifetime_a1_a2', 'h1_max_lifetime_a2', 'manhattan_bottleneck_A1_A2', 'Canberra', 'Chebyshev', 'Euclidean', 'NESum_A1', 'NESum_a1', 'NESum_a2', 'RankMe_A1', 'RankMe_a1', 'RankMe_a2', 'SelfCluster_A2', 'SelfCluster_a1', 'SelfCluster_a2', 'alpha_ReQ_A2', 'cosine_bottleneck_a1_a2', 'cosine_entropy_H0_a1', 'cosine_entropy_H0_a1_a2', 'cosine_entropy_H0_a2', 'cosine_entropy_H1_A1', 'cosine_entropy_H1_a1_a2', 'euclidean_bottleneck_a1_a2', 'euclidean_entropy_H0_A1', 'euclidean_entropy_H0_a1', 'euclidean_entropy_H0_a1_a2', 'euclidean_entropy_H1_A1', 'euclidean_entropy_H1_a1_a2', 'euclidean_entropy_H1_a2', 'euclidean_wasserstein_a1_a2', 'h0_max_lifetime_A1', 'h0_max_lifetime_A2', 'h0_max_lifetime_a1_a2', 'h0_max_lifetime_a2', 'h1_count_a1', 'h1_max_lifetime_a1', 'h1_max_lifetime_a1_a2', 'h1_max_lifetime_a2', 'manhattan_bottleneck_A1_A2', 'Canberra', 'Chebyshev', 'Euclidean', 'NESum_A1', 'NESum_a1', 'NESum_a2', 'RankMe_A1', 'RankMe_a1', 'RankMe_a2', 'SelfCluster_A2', 'SelfCluster_a1', 'SelfCluster_a2', 'alpha_ReQ_A2', 'cosine_bottleneck_a1_a2', 'cosine_entropy_H0_a1', 'cosine_entropy_H0_a1_a2', 'cosine_entropy_H0_a2', 'cosine_entropy_H1_A1', 'cosine_entropy_H1_a1_a2', 'euclidean_bottleneck_a1_a2', 'euclidean_entropy_H0_A1', 'euclidean_entropy_H0_a1', 'euclidean_entropy_H0_a1_a2', 'euclidean_entropy_H1_A1', 'euclidean_entropy_H1_a1_a2', 'euclidean_entropy_H1_a2', 'euclidean_wasserstein_a1_a2', 'h0_max_lifetime_A1', 'h0_max_lifetime_A2', 'h0_max_lifetime_a1_a2', 'h0_max_lifetime_a2', 'h1_count_a1', 'h1_max_lifetime_a1', 'h1_max_lifetime_a1_a2', 'h1_max_lifetime_a2', 'manhattan_bottleneck_A1_A2', 'Canberra', 'Chebyshev', 'Euclidean', 'NESum_A1', 'NESum_a1', 'NESum_a2', 'RankMe_A1', 'RankMe_a1', 'RankMe_a2', 'SelfCluster_A2', 'SelfCluster_a1', 'SelfCluster_a2', 'alpha_ReQ_A2', 'cosine_bottleneck_a1_a2', 'cosine_entropy_H0_a1', 'cosine_entropy_H0_a1_a2', 'cosine_entropy_H0_a2', 'cosine_entropy_H1_A1', 'cosine_entropy_H1_a1_a2', 'euclidean_bottleneck_a1_a2', 'euclidean_entropy_H0_A1', 'euclidean_entropy_H0_a1', 'euclidean_entropy_H0_a1_a2', 'euclidean_entropy_H1_A1', 'euclidean_entropy_H1_a1_a2', 'euclidean_entropy_H1_a2', 'euclidean_wasserstein_a1_a2', 'h0_max_lifetime_A1', 'h0_max_lifetime_A2', 'h0_max_lifetime_a1_a2', 'h0_max_lifetime_a2', 'h1_count_a1', 'h1_max_lifetime_a1', 'h1_max_lifetime_a1_a2', 'h1_max_lifetime_a2', 'manhattan_bottleneck_A1_A2']\n"
     ]
    }
   ],
   "source": [
    "selected_features_si=[]\n",
    "for i in range(1,10,1):\n",
    "    file_path = f\"./si/metriques_sorties_exec{i}.txt\"\n",
    "\n",
    "\n",
    "    with open(file_path, \"r\", encoding=\"utf-8\") as f:\n",
    "        selected_features = [line.strip() for line in f if line.strip()]\n",
    "        \n",
    "    selected_features_si+=selected_features\n",
    "\n",
    "    print(\"Selected Variables({}):\".format(len(set(selected_features_si))))\n",
    "    print(selected_features_si)"
   ]
  },
  {
   "cell_type": "code",
   "execution_count": 48,
   "id": "ea36b09a",
   "metadata": {},
   "outputs": [],
   "source": [
    "selected_features_ss=set(selected_features_ss)\n",
    "selected_features_si=set(selected_features_si)"
   ]
  },
  {
   "cell_type": "code",
   "execution_count": 49,
   "id": "641c9a11",
   "metadata": {},
   "outputs": [],
   "source": [
    "all_features = sorted(selected_features_ss.union(selected_features_si))\n",
    "\n",
    "def get_category(feature):\n",
    "    for cat, feats in dict_distances.items():\n",
    "        if feature in feats:\n",
    "            return cat\n",
    "    return \"Other\""
   ]
  },
  {
   "cell_type": "code",
   "execution_count": 63,
   "id": "764e0ed6",
   "metadata": {},
   "outputs": [
    {
     "data": {
      "image/png": "[encoded data removed]",
      "text/plain": [
       "<Figure size 1800x600 with 2 Axes>"
      ]
     },
     "metadata": {},
     "output_type": "display_data"
    }
   ],
   "source": [
    "import matplotlib.pyplot as plt\n",
    "import seaborn as sns\n",
    "import matplotlib.patches as mpatches\n",
    "import pandas as pd\n",
    "\n",
    "all_features = sorted(selected_features_ss.union(selected_features_si))\n",
    "all_features = [f for f in all_features if f!='ExecutionTime' ]\n",
    "all_abbr=[abbreviations[f] for f in all_features if f!='ExecutionTime' ]\n",
    "\n",
    "df = pd.DataFrame({\n",
    "    \"Scenario 1: Schema → (S,I)\": [1 if f in selected_features_ss else 0 for f in all_features],\n",
    "    \"Scenario 2: Instance → (S,I)\": [1 if f in selected_features_si else 0 for f in all_features],\n",
    "    \"Category\": [get_category(f) for f in all_features]\n",
    "})\n",
    "\n",
    "df.rename(columns={\n",
    "    \"Scenario 1: Schema → (S,I)\": \"S → (S,I)\",\n",
    "    \"Scenario 2: Instance → (S,I)\": \"I → (S,I)\"\n",
    "}, inplace=True)\n",
    "\n",
    "# Construction de la matrice pour la heatmap\n",
    "heatmap_data = df[[\"S → (S,I)\", \"I → (S,I)\"]].T\n",
    "heatmap_data.columns = all_abbr\n",
    "heatmap_data = heatmap_data.astype(float)\n",
    "\n",
    "# === PARTIE 2 : Catégories ===\n",
    "# On part de la colonne \"Category\" de df pour chaque feature\n",
    "feature_list    = list(heatmap_data.columns)\n",
    "feature_to_cat  = dict(zip(all_abbr, df[\"Category\"]))\n",
    "cat_map         = {\"Classiques\":\"Classical\", \"Spectral\":\"Spectral\", \"Topology\":\"Topological\"}\n",
    "cat_colors      = {\"Classical\":\"green\", \"Spectral\":\"red\", \"Topological\":\"black\"}\n",
    "feature_cats    = [feature_to_cat.get(f, 'Autre') for f in feature_list]\n",
    "feature_cats_long = [cat_map.get(c, 'Other') for c in feature_cats]\n",
    "\n",
    "# === PARTIE 3 : DataFrame seaborn ===\n",
    "df_plot       = heatmap_data.copy()\n",
    "df_plot.index = [\"S → (S,I)\", \"I → (S,I)\"]\n",
    "# colonnes : feature_list, en ordre\n",
    "\n",
    "# === PARTIE 4 : Tracé ===\n",
    "fig, ax = plt.subplots(figsize=(max(12, len(df_plot.columns)*0.4), 6))\n",
    "\n",
    "sns.heatmap(\n",
    "    df_plot,\n",
    "    cmap=\"Greens\",\n",
    "    cbar=True,\n",
    "    cbar_kws={\n",
    "        'orientation':'vertical',\n",
    "        'shrink': 1,\n",
    "        'pad': 0.01,\n",
    "    },\n",
    "    linewidths=0.3,\n",
    "    linecolor='gray',\n",
    "    ax=ax\n",
    ")\n",
    "\n",
    "# Coloration ticks X (features)\n",
    "ax.set_xticklabels(df_plot.columns, rotation=90, ha='center')\n",
    "for lbl, cat in zip(ax.get_xticklabels(), feature_cats_long):\n",
    "    lbl.set_color(cat_colors[cat])\n",
    "    lbl.set_fontsize(12)\n",
    "\n",
    "# Coloration ticks Y (scénarios)\n",
    "ax.set_yticklabels(df_plot.index, rotation=0, fontsize=14)\n",
    "\n",
    "# === PARTIE 5 : LES LÉGENDES AU‐DESSUS ===\n",
    "\n",
    "# 5A) Légende des couleurs de features\n",
    "meta_patches = [\n",
    "    mpatches.Patch(color=col, label=cat)\n",
    "    for cat, col in cat_colors.items()\n",
    "]\n",
    "fig.legend(\n",
    "    handles=meta_patches,\n",
    "    fontsize=12,\n",
    "    loc='upper center',\n",
    "    bbox_to_anchor=(0.45, 0.57),\n",
    "    ncol=len(meta_patches),\n",
    "    frameon=True\n",
    ").get_frame().set_edgecolor('black')\n",
    "\n",
    "# 5B) Légende des scenarios (si vous voulez indiquer le mapping)\n",
    "scenario_full = {\n",
    "    \"S → (S,I)\": \"Schema → (S,I)\",\n",
    "    \"I → (S,I)\": \"Instance → (S,I)\"\n",
    "}\n",
    "meth_patches = [\n",
    "    mpatches.Patch(facecolor='white', edgecolor='black', label=f\"{abbr} = {name}\")\n",
    "    for abbr, name in scenario_full.items()\n",
    "]\n",
    "\n",
    "# === PARTIE 6 : Ajustements finaux ===\n",
    "fig.subplots_adjust(top=0.5, bottom=0.3, left=0.12, right=0.88)\n",
    "plt.savefig('feature_selection_two.png', dpi=450, bbox_inches='tight')\n",
    "\n",
    "plt.show()"
   ]
  },
  {
   "cell_type": "code",
   "execution_count": null,
   "id": "bfd05c54",
   "metadata": {},
   "outputs": [],
   "source": []
  }
 ],
 "metadata": {
  "kernelspec": {
   "display_name": "Python 3",
   "language": "python",
   "name": "python3"
  },
  "language_info": {
   "codemirror_mode": {
    "name": "ipython",
    "version": 3
   },
   "file_extension": ".py",
   "mimetype": "text/x-python",
   "name": "python",
   "nbconvert_exporter": "python",
   "pygments_lexer": "ipython3",
   "version": "3.10.17"
  }
 },
 "nbformat": 4,
 "nbformat_minor": 5
}
